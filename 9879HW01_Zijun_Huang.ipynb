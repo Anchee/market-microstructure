{
 "cells": [
  {
   "cell_type": "markdown",
   "metadata": {},
   "source": [
    "# MTH9879 Homework 1\n",
    "\n",
    "Assigned: January 31, 2017.\n",
    "Due: February 14, 2017 by 6pm. \n",
    "\n",
    "Late homework **will not be accepted**.\n",
    "\n",
    "$$\n",
    "\\newcommand{\\supp}{\\mathrm{supp}}\n",
    "\\newcommand{\\E}{\\mathbb{E} }\n",
    "\\def\\Cov{{ \\mbox{Cov} }}\n",
    "\\def\\Var{{ \\mbox{Var} }}\n",
    "\\newcommand{\\1}{\\mathbf{1} }\n",
    "\\newcommand{\\PP}{\\mathbb{P} }\n",
    "%\\newcommand{\\Pr}{\\mathrm{Pr} }\n",
    "\\newcommand{\\QQ}{\\mathbb{Q} }\n",
    "\\newcommand{\\RR}{\\mathbb{R} }\n",
    "\\newcommand{\\DD}{\\mathbb{D} }\n",
    "\\newcommand{\\HH}{\\mathbb{H} }\n",
    "\\newcommand{\\spn}{\\mathrm{span} }\n",
    "\\newcommand{\\cov}{\\mathrm{cov} }\n",
    "\\newcommand{\\sgn}{\\mathrm{sgn} }\n",
    "\\newcommand{\\HS}{\\mathcal{L}_{\\mathrm{HS}} }\n",
    "%\\newcommand{\\HS}{\\mathrm{HS} }\n",
    "\\newcommand{\\trace}{\\mathrm{trace} }\n",
    "\\newcommand{\\LL}{\\mathcal{L} }\n",
    "%\\newcommand{\\LL}{\\mathrm{L} }\n",
    "\\newcommand{\\s}{\\mathcal{S} }\n",
    "\\newcommand{\\ee}{\\mathcal{E} }\n",
    "\\newcommand{\\ff}{\\mathcal{F} }\n",
    "\\newcommand{\\hh}{\\mathcal{H} }\n",
    "\\newcommand{\\bb}{\\mathcal{B} }\n",
    "\\newcommand{\\dd}{\\mathcal{D} }\n",
    "\\newcommand{\\g}{\\mathcal{G} }\n",
    "\\newcommand{\\p}{\\partial}\n",
    "\\newcommand{\\half}{\\frac{1}{2} }\n",
    "\\newcommand{\\T}{\\mathcal{T} }\n",
    "\\newcommand{\\bi}{\\begin{itemize}}\n",
    "\\newcommand{\\ei}{\\end{itemize}}\n",
    "\\newcommand{\\beq}{\\begin{equation}}\n",
    "\\newcommand{\\eeq}{\\end{equation}}\n",
    "\\newcommand{\\beas}{\\begin{eqnarray*}}\n",
    "\\newcommand{\\eeas}{\\end{eqnarray*}}\n",
    "\\newcommand{\\cO}{\\mathcal{O}}\n",
    "\\newcommand{\\cF}{\\mathcal{F}}\n",
    "\\newcommand{\\cL}{\\mathcal{L}}\n",
    "\\newcommand{\\BS}{\\text{BS}}\n",
    "$$"
   ]
  },
  {
   "cell_type": "markdown",
   "metadata": {},
   "source": [
    "<font color = \"red\">Homework is to be done by each student individually.  To receive full credit, you must email a completed copy of this iPython notebook to Victor Istratov (stavka@gmail.com), Yassine Ghalem (yassine.ghalem@gmail.com) and Jim Gatheral (jim.gatheral@gmail.com) by the due date and time.  All R-code must run correctly and solutions must be written up neatly in Markdown/LaTeX format."
   ]
  },
  {
   "cell_type": "markdown",
   "metadata": {},
   "source": [
    "#### R version: 'R version 3.3.1 (2016-06-21)' (windows)"
   ]
  },
  {
   "cell_type": "markdown",
   "metadata": {},
   "source": [
    "### 1. (4 points) \n",
    "\n",
    "Read Chapter 1 of Market Liquidity by Foucault, Pagano and R&ouml;ell.\n",
    "What algorithmic trading strategy was being used by the seller who triggered the Flash\n",
    "Crash of May 6, 2010? Why did it cause a crash? How could this algorithm have been\n",
    "amended so as to avoid the ensuing disaster?"
   ]
  },
  {
   "cell_type": "markdown",
   "metadata": {},
   "source": [
    "#### <font color=blue> Solution  </font>\n",
    "\n",
    "- trading strategy used by the seller: \"constant participation rate\" strategy of splitting the order in such a way that each \"child\" order represents a fixed fraction of the total trading volume over a given period of time.\n",
    "\n",
    "- the reason why it cause a crash: when the \"parent\" is relatively large, the sub-orders themselves can give a false impression of large volume, accelerating the main order's execution.\n",
    "\n",
    "- how to amend it: the trader should make his strategy contingent on the execution price received, trading less as the price impact increases."
   ]
  },
  {
   "cell_type": "markdown",
   "metadata": {},
   "source": [
    "## The Smith Farmer zero-intelligence model"
   ]
  },
  {
   "cell_type": "markdown",
   "metadata": {},
   "source": [
    "### Set up R-environment\n",
    "\n",
    "The following code sources *ziSetup.R* which contains all the functions required for the problem."
   ]
  },
  {
   "cell_type": "code",
   "execution_count": 5,
   "metadata": {
    "collapsed": false
   },
   "outputs": [],
   "source": [
    "download.file(url=\"http://mfe.baruch.cuny.edu/wp-content/uploads/2015/01/ziSetup.zip\", destfile=\"ziSetup.zip\")\n",
    "unzip(zipfile=\"ziSetup.zip\")\n",
    "\n",
    "source(\"ziSetup.R\")"
   ]
  },
  {
   "cell_type": "markdown",
   "metadata": {},
   "source": [
    "### 2. (4 points)\n",
    "\n",
    "Using the provided functions in *ziSetup.R* (with $\\alpha = 1$, $\\mu = 10$, $\\delta = 1/5$),\n",
    "initialize the order book and add two orders to the (best) bid side of the book. The resulting\n",
    "book should have 3 orders at best bid and 1 order at best offer. Plot the resulting book\n",
    "shape."
   ]
  },
  {
   "cell_type": "markdown",
   "metadata": {},
   "source": [
    "#### <font color=blue> Solution  </font>"
   ]
  },
  {
   "cell_type": "code",
   "execution_count": 6,
   "metadata": {
    "collapsed": false
   },
   "outputs": [
    {
     "data": {
      "image/png": "[encoded data removed]",
      "text/plain": [
       "plot without title"
      ]
     },
     "metadata": {},
     "output_type": "display_data"
    }
   ],
   "source": [
    "# turn off the logging\n",
    "logging <- F\n",
    "\n",
    "# set the parameters\n",
    "alpha <-1\n",
    "mu<-10\n",
    "delta <- 0.2; \n",
    "\n",
    "# initialize the book\n",
    "initializeBook5()\n",
    "\n",
    "# add two orders so that the resulting book have 3 orders at best bid and 1 order at best offer\n",
    "limitBuyOrder(-1)\n",
    "limitBuyOrder(-1)\n",
    "\n",
    "# plot the book\n",
    "bookPlot(20) "
   ]
  },
  {
   "cell_type": "markdown",
   "metadata": {},
   "source": [
    "### 3. (16 points)\n",
    "\n",
    "(a) Using the code supplied to generate Figure 2 as a template, simulate 100,000 events, computing the average book shape (in a band $\\pm 20$ around the mid price) for the\n",
    "following sets of parameters:\n",
    "\n",
    "|$\\alpha$|$\\mu$|$\\delta$|\n",
    "-----|-----:|-------:|\n",
    "I| 1 | 10 | $\\frac15$\n",
    "II| 1 | 8 |  $\\frac15$\n",
    "III| 1 |  10 | $\\frac16$\n",
    "IV| 1  | 10 | $\\frac18$ \n",
    "\n",
    "(Warning: This might take longer than 15 minutes to run!).\n",
    "\n",
    "(b) Generate a summary plot of the average book shapes for each parameter set (I, II, II, and IV).\n",
    "\n",
    "\n",
    "(c) Verify that the relationships between the slopes of the order books at-the-money for each parameter set are consistent with the predictions from dimensional analysis.\n",
    "\n",
    "(d) Verify that the asymptotic book depths are consistent with the predictions from dimensional analysis."
   ]
  },
  {
   "cell_type": "markdown",
   "metadata": {},
   "source": [
    "#### <font color=blue> Solution for (a) and (b) </font>"
   ]
  },
  {
   "cell_type": "code",
   "execution_count": 8,
   "metadata": {
    "collapsed": false
   },
   "outputs": [
    {
     "data": {
      "image/png": "[encoded data removed]",
      "text/plain": [
       "Plot with title \"NA\""
      ]
     },
     "metadata": {},
     "output_type": "display_data"
    }
   ],
   "source": [
    "# turn off the logging\n",
    "logging <- F\n",
    "\n",
    "# set the parameters\n",
    "alphas <- c(1,1,1,1)\n",
    "mus <- c(10,8,10,10)\n",
    "deltas <- c(1/5,1/5,1/6,1/8)\n",
    "\n",
    "# initialize the book\n",
    "initializeBook5()\n",
    "\n",
    "# store the result\n",
    "avgBookShapes=array(0,c(4,41))\n",
    "\n",
    "for(i in 1:4){\n",
    "  alpha <- alphas[i]\n",
    "  mu <- mus[i]\n",
    "  delta <- deltas[i] \n",
    "  initializeBook5()\n",
    "    \n",
    "  # Burn in for 1000 events\n",
    "  for(count in 1:1000){\n",
    "    generateEvent()\n",
    "  }\n",
    "    \n",
    "  numEvents <- 100000 # Average over 100,000 events\n",
    "  avgBookShapeTmp <- bookShape(20)/numEvents\n",
    "  for(count in 2:numEvents){\n",
    "    generateEvent()\n",
    "    avgBookShapeTmp <- avgBookShapeTmp+bookShape(20)/numEvents\n",
    "  }\n",
    "  avgBookShapes[i,] <- avgBookShapeTmp\n",
    "}\n",
    "\n",
    "# plot\n",
    "colors=c(\"red\",\"blue\",\"orange\",\"green\")\n",
    "plot(-20:20,avgBookShapes[1,],main=\"Book shapes\",xlab=\"Relative price\",ylab=\"# Shares\", col=colors[1], type=\"b\",xlim=c(-20,20),ylim=c(0,9))\n",
    "for(jj in 2:4){ \n",
    "  par(new=T)\n",
    "  plot(-20:20,avgBookShapes[jj,],main=NA,xlab=\"\",ylab=\"\", col=colors[jj], type=\"b\",axes=F,xlim=c(-20,20),ylim=c(0,9))\n",
    "}\n",
    "legend(12,2.5,c(\"I\",\"II\",\"III\",\"IV\"),lty=1, lwd = 2, col=colors)  \n",
    "par(new=F)\n"
   ]
  },
  {
   "cell_type": "markdown",
   "metadata": {},
   "source": [
    "#### <font color=blue> Solution for (c) </font>\n",
    "Compare the slopes from simulation and dimensional analysis. "
   ]
  },
  {
   "cell_type": "code",
   "execution_count": 9,
   "metadata": {
    "collapsed": false
   },
   "outputs": [
    {
     "data": {
      "image/png": "[encoded data removed]",
      "text/plain": [
       "Plot with title \"NA\""
      ]
     },
     "metadata": {},
     "output_type": "display_data"
    }
   ],
   "source": [
    "colors=c(\"red\",\"blue\",\"orange\",\"green\")\n",
    "plot(-20:20,avgBookShapes[1,],main=\"Book shapes\",xlab=\"Relative price\",ylab=\"# Shares\", col=colors[1], type=\"b\",xlim=c(-20,20),ylim=c(0,9))\n",
    "for(jj in 2:4){ \n",
    "  par(new=T)\n",
    "  plot(-20:20,avgBookShapes[jj,],main=NA,xlab=\"\",ylab=\"\", col=colors[jj], type=\"b\",axes=F,xlim=c(-20,20),ylim=c(0,9))\n",
    "}\n",
    "legend(12,2.5,c(\"I\",\"II\",\"III\",\"IV\"),lty=1, lwd = 2, col=colors)  \n",
    "\n",
    "# compare the slope \n",
    "for (kk in 1:4){\n",
    "  par(new = T)\n",
    "  slopes <- alphas[kk]*alphas[kk]/mus[kk]/deltas[kk]\n",
    "  FirstSlope <- c((-slopes*(-20:0)),(slopes*(1:20)))\n",
    "  plot(-20:20,FirstSlope,main=NA,xlab=\"\",ylab=\"\", col = colors[kk], type=\"l\",axes=F,xlim=c(-20,20),ylim=c(0,9))\n",
    "}\n",
    "par(new=F)"
   ]
  },
  {
   "cell_type": "markdown",
   "metadata": {},
   "source": [
    "#### <font color=blue> Solution for (d) </font>\n",
    "Compare the asymptotic book depths from simulation and dimensional analysis. "
   ]
  },
  {
   "cell_type": "code",
   "execution_count": 11,
   "metadata": {
    "collapsed": false
   },
   "outputs": [
    {
     "data": {
      "image/png": "[encoded data removed]",
      "text/plain": [
       "Plot with title \"NA\""
      ]
     },
     "metadata": {},
     "output_type": "display_data"
    }
   ],
   "source": [
    "colors=c(\"red\",\"blue\",\"orange\",\"green\")\n",
    "plot(-20:20,avgBookShapes[1,],main=\"Book shapes\",xlab=\"Relative price\",ylab=\"# Shares\", col=colors[1], type=\"b\",xlim=c(-20,20),ylim=c(0,9))\n",
    "for(jj in 2:4){ \n",
    "  par(new=T)\n",
    "  plot(-20:20,avgBookShapes[jj,],main=NA,xlab=\"\",ylab=\"\", col=colors[jj], type=\"b\",axes=F,xlim=c(-20,20),ylim=c(0,9))\n",
    "}\n",
    "legend(12,2.5,c(\"I\",\"II\",\"III\",\"IV\"),lty=1, lwd = 2, col=colors)  \n",
    "\n",
    "# compare the asymptotic book depths \n",
    "for (kk in 1:4){\n",
    "  par(new = T)\n",
    "  bookDepth <- rep(alphas[kk]/deltas[kk],41)\n",
    "  plot(-20:20,bookDepth,main=NA,xlab=\"\",ylab=\"\", col = colors[kk], type=\"l\",axes=F,xlim=c(-20,20),ylim=c(0,9))\n",
    "}\n",
    "par(new=F)"
   ]
  },
  {
   "cell_type": "markdown",
   "metadata": {},
   "source": [
    "### The following code sets up the data required for Problem 4."
   ]
  },
  {
   "cell_type": "code",
   "execution_count": 12,
   "metadata": {
    "collapsed": false
   },
   "outputs": [],
   "source": [
    "download.file(url=\"http://mfe.baruch.cuny.edu/wp-content/uploads/2015/01/ziSimResults.rData_.zip\", destfile=\"ziSimResults.rData.zip\")\n",
    "unzip(zipfile=\"ziSimResults.rData.zip\")\n",
    "load(\"ziSimResults.rData\")"
   ]
  },
  {
   "cell_type": "markdown",
   "metadata": {},
   "source": [
    "### 4. (12 points)\n",
    "\n",
    "The datafile *ziSimResults.rData* contains a list of bid and ask prices after 100 events resulting from 10,000 simulations of the SFGK model with $\\alpha = 1$, $\\mu = 10$, and $\\delta = 1/5$. The $j$th element of the list has results for an initial book configuration with $q_b = j$ shares on the bid side and $q_a = 1$ share on the ask side."
   ]
  },
  {
   "cell_type": "markdown",
   "metadata": {},
   "source": [
    "(a) For each size $q_b$ at best bid, compute the mean mid-price after 10,000 events and with error computed as standard deviation of the mean.\n",
    "\n",
    "(b) Plot mean mid-price vs size at best bid, reproducing Figure 3 of the lecture slides. \n",
    "Remember to include error bars!\n",
    "\n",
    "(c) Repeat part (b) with the order book imbalance $I$ on the x-axis, reproducing Figure 7 in the lecture slides.\n",
    "\n",
    "\n",
    "(d) If you see an order book with large quantity at the bid and small quantity at the offer, what does it tell you about the future price?"
   ]
  },
  {
   "cell_type": "markdown",
   "metadata": {},
   "source": [
    "#### <font color=blue> Solution for (a) </font>\n",
    "Accroding to the following formulas:\n",
    "$ \\bar x = \\frac{\\sum x_i}{N} $     ;        $ \\sigma_M = \\frac{\\sigma }{\\sqrt{N}}$"
   ]
  },
  {
   "cell_type": "code",
   "execution_count": 15,
   "metadata": {
    "collapsed": false
   },
   "outputs": [
    {
     "data": {
      "text/html": [
       "<table>\n",
       "<thead><tr><th scope=col>meanPx</th><th scope=col>errPx</th></tr></thead>\n",
       "<tbody>\n",
       "\t<tr><td>0.00590    </td><td>0.015379863</td></tr>\n",
       "\t<tr><td>0.21550    </td><td>0.014316301</td></tr>\n",
       "\t<tr><td>0.41350    </td><td>0.013108355</td></tr>\n",
       "\t<tr><td>0.56635    </td><td>0.012291150</td></tr>\n",
       "\t<tr><td>0.66850    </td><td>0.011233583</td></tr>\n",
       "\t<tr><td>0.74110    </td><td>0.010380166</td></tr>\n",
       "\t<tr><td>0.80530    </td><td>0.010190907</td></tr>\n",
       "\t<tr><td>0.80955    </td><td>0.009888385</td></tr>\n",
       "\t<tr><td>0.83880    </td><td>0.009779878</td></tr>\n",
       "\t<tr><td>0.83435    </td><td>0.009617315</td></tr>\n",
       "</tbody>\n",
       "</table>\n"
      ],
      "text/latex": [
       "\\begin{tabular}{r|ll}\n",
       " meanPx & errPx\\\\\n",
       "\\hline\n",
       "\t 0.00590     & 0.015379863\\\\\n",
       "\t 0.21550     & 0.014316301\\\\\n",
       "\t 0.41350     & 0.013108355\\\\\n",
       "\t 0.56635     & 0.012291150\\\\\n",
       "\t 0.66850     & 0.011233583\\\\\n",
       "\t 0.74110     & 0.010380166\\\\\n",
       "\t 0.80530     & 0.010190907\\\\\n",
       "\t 0.80955     & 0.009888385\\\\\n",
       "\t 0.83880     & 0.009779878\\\\\n",
       "\t 0.83435     & 0.009617315\\\\\n",
       "\\end{tabular}\n"
      ],
      "text/markdown": [
       "\n",
       "meanPx | errPx | \n",
       "|---|---|---|---|---|---|---|---|---|---|\n",
       "| 0.00590     | 0.015379863 | \n",
       "| 0.21550     | 0.014316301 | \n",
       "| 0.41350     | 0.013108355 | \n",
       "| 0.56635     | 0.012291150 | \n",
       "| 0.66850     | 0.011233583 | \n",
       "| 0.74110     | 0.010380166 | \n",
       "| 0.80530     | 0.010190907 | \n",
       "| 0.80955     | 0.009888385 | \n",
       "| 0.83880     | 0.009779878 | \n",
       "| 0.83435     | 0.009617315 | \n",
       "\n",
       "\n"
      ],
      "text/plain": [
       "   meanPx  errPx      \n",
       "1  0.00590 0.015379863\n",
       "2  0.21550 0.014316301\n",
       "3  0.41350 0.013108355\n",
       "4  0.56635 0.012291150\n",
       "5  0.66850 0.011233583\n",
       "6  0.74110 0.010380166\n",
       "7  0.80530 0.010190907\n",
       "8  0.80955 0.009888385\n",
       "9  0.83880 0.009779878\n",
       "10 0.83435 0.009617315"
      ]
     },
     "metadata": {},
     "output_type": "display_data"
    }
   ],
   "source": [
    "# mean, error\n",
    "meanPx <- numeric()\n",
    "errPx <- numeric()\n",
    "for (j in 1:10){\n",
    "  tmp <- ziSimResults[[j]]\n",
    "  mid <- (tmp$a+tmp$b)/2\n",
    "  meanPx[j] <- mean(mid)\n",
    "  errPx[j] <- sd(mid)/sqrt(length(mid))\n",
    "}\n",
    "\n",
    "data.frame(meanPx,errPx)"
   ]
  },
  {
   "cell_type": "markdown",
   "metadata": {},
   "source": [
    "#### <font color=blue> Solution for (b) </font>"
   ]
  },
  {
   "cell_type": "code",
   "execution_count": 16,
   "metadata": {
    "collapsed": false
   },
   "outputs": [
    {
     "data": {
      "image/png": "[encoded data removed]",
      "text/plain": [
       "plot without title"
      ]
     },
     "metadata": {},
     "output_type": "display_data"
    }
   ],
   "source": [
    "plot(c(1:10),meanPx,ylim=c(-.1,1),col=\"red\",xlab=expression(paste(\"Size at best bid \",q[b])),ylab=\"Mean price after 100 events\")\n",
    "arrows(c(1:10),meanPx+errPx,c(1:10),meanPx-errPx,angle=90,code=3,length=.1,col=\"red\")"
   ]
  },
  {
   "cell_type": "markdown",
   "metadata": {},
   "source": [
    "#### <font color=blue> Solution for (c) </font>\n",
    "First we calculate the order book imbalance:\n",
    "$\n",
    "I = \\frac{ q_b-q_a}{q_b+q_a}.\n",
    "$"
   ]
  },
  {
   "cell_type": "code",
   "execution_count": 19,
   "metadata": {
    "collapsed": false
   },
   "outputs": [
    {
     "data": {
      "image/png": "[encoded data removed]",
      "text/plain": [
       "plot without title"
      ]
     },
     "metadata": {},
     "output_type": "display_data"
    }
   ],
   "source": [
    "qb <- c(1:10)\n",
    "qa <- rep(1,10)\n",
    "I <- (qb-qa)/(qb+qa)\n",
    "plot(I,meanPx,ylim=c(-.1,1),col=\"red\",xlab=\"Imbalance\",ylab=\"Mean price after 100 events\")\n",
    "arrows(I,meanPx+errPx,I,meanPx-errPx,angle=90,code=3,length=.1,col=\"red\")"
   ]
  },
  {
   "cell_type": "markdown",
   "metadata": {},
   "source": [
    "#### <font color=blue> Solution for (d) </font>\n",
    "If there is more on the bid than the ask side of the order book, the price is expected\n",
    "to increase."
   ]
  },
  {
   "cell_type": "markdown",
   "metadata": {},
   "source": [
    "## Is the market price a martingale?"
   ]
  },
  {
   "cell_type": "markdown",
   "metadata": {},
   "source": [
    "### 5. (4 points) \n",
    "\n",
    "A derivatives quant explains (patiently) to you that asset prices are martingales (informally speaking that expected price changes are zero). Do you agree? How is your understanding consistent with the derivative quant’s understanding?"
   ]
  },
  {
   "cell_type": "markdown",
   "metadata": {
    "collapsed": false
   },
   "source": [
    "#### <font color=blue> Solution </font>\n",
    "\n",
    "I don't agree and the reasons are as follow:\n",
    "\n",
    "- Microstructure models show that if you condition on the state of the book or the history of order flow, you can predict future prices.\n",
    "\n",
    "- According to Fundamental Theorem of Asset Pricing, the market should be a martingale if and only if the market is arbitrage-free. \n"
   ]
  }
 ],
 "metadata": {
  "anaconda-cloud": {},
  "kernelspec": {
   "display_name": "R",
   "language": "R",
   "name": "ir"
  },
  "language_info": {
   "codemirror_mode": "r",
   "file_extension": ".r",
   "mimetype": "text/x-r-source",
   "name": "R",
   "pygments_lexer": "r",
   "version": "3.3.1"
  }
 },
 "nbformat": 4,
 "nbformat_minor": 0
}
