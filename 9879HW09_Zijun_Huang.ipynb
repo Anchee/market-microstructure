{
 "cells": [
  {
   "cell_type": "markdown",
   "metadata": {},
   "source": [
    "# MTH9879 Homework 9\n",
    "\n",
    "Assigned: April 25, 2017.\n",
    "Due: May 9, 2017 by 6pm. \n",
    "\n",
    "Late homework **will not be accepted**.\n",
    "\n",
    "$$\n",
    "\\newcommand{\\supp}{\\mathrm{supp}}\n",
    "\\newcommand{\\E}{\\mathbb{E}}\n",
    "\\newcommand{\\Eof}[1]{\\mathbb{E}\\left[ #1 \\right]}\n",
    "\\def\\Cov{{ \\mbox{Cov} }}\n",
    "\\def\\Var{{ \\mbox{Var} }}\n",
    "\\newcommand{\\1}{\\mathbf{1} }\n",
    "\\newcommand{\\PP}{\\mathbb{P} }\n",
    "%\\newcommand{\\Pr}{\\mathrm{Pr} }\n",
    "\\newcommand{\\QQ}{\\mathbb{Q} }\n",
    "\\newcommand{\\RR}{\\mathbb{R} }\n",
    "\\newcommand{\\DD}{\\mathbb{D} }\n",
    "\\newcommand{\\HH}{\\mathbb{H} }\n",
    "\\newcommand{\\spn}{\\mathrm{span} }\n",
    "\\newcommand{\\cov}{\\mathrm{cov} }\n",
    "\\newcommand{\\sgn}{\\mathrm{sgn} }\n",
    "\\newcommand{\\HS}{\\mathcal{L}_{\\mathrm{HS}} }\n",
    "%\\newcommand{\\HS}{\\mathrm{HS} }\n",
    "\\newcommand{\\trace}{\\mathrm{trace} }\n",
    "\\newcommand{\\LL}{\\mathcal{L} }\n",
    "%\\newcommand{\\LL}{\\mathrm{L} }\n",
    "\\newcommand{\\s}{\\mathcal{S} }\n",
    "\\newcommand{\\ee}{\\mathcal{E} }\n",
    "\\newcommand{\\ff}{\\mathcal{F} }\n",
    "\\newcommand{\\hh}{\\mathcal{H} }\n",
    "\\newcommand{\\bb}{\\mathcal{B} }\n",
    "\\newcommand{\\dd}{\\mathcal{D} }\n",
    "\\newcommand{\\g}{\\mathcal{G} }\n",
    "\\newcommand{\\p}{\\partial}\n",
    "\\newcommand{\\half}{\\frac{1}{2} }\n",
    "\\newcommand{\\T}{\\mathcal{T} }\n",
    "\\newcommand{\\bi}{\\begin{itemize}}\n",
    "\\newcommand{\\ei}{\\end{itemize}}\n",
    "\\newcommand{\\beq}{\\begin{equation}}\n",
    "\\newcommand{\\eeq}{\\end{equation}}\n",
    "\\newcommand{\\beas}{\\begin{eqnarray*}}\n",
    "\\newcommand{\\eeas}{\\end{eqnarray*}}\n",
    "\\newcommand{\\cO}{\\mathcal{O}}\n",
    "\\newcommand{\\cC}{\\mathcal{C}}\n",
    "\\newcommand{\\cF}{\\mathcal{F}}\n",
    "\\newcommand{\\cL}{\\mathcal{L}}\n",
    "\\newcommand{\\BS}{\\text{BS}}\n",
    "$$"
   ]
  },
  {
   "cell_type": "markdown",
   "metadata": {},
   "source": [
    "<font color = \"red\">Homework is to be done by each student individually.  To receive full credit, you must email a completed copy of this iPython notebook to Victor Istratov (stavka@gmail.com), Yassine Ghalem (yassine.ghalem@gmail.com) and Jim Gatheral (jim.gatheral@gmail.com) by the due date and time.  All R-code must run correctly and solutions must be written up neatly in Markdown/LaTeX format.\n"
   ]
  },
  {
   "cell_type": "markdown",
   "metadata": {},
   "source": [
    "### R version 3.3.2 (2016-10-31) (ubuntu)"
   ]
  },
  {
   "cell_type": "markdown",
   "metadata": {},
   "source": [
    "### 1. (20 points)\n",
    "Following Almgren and Chriss,  assume that the stock price $S_t$ evolves as\n",
    "\n",
    "$$\n",
    "dS_t = \\sigma\\,dZ_t\n",
    "$$\n",
    "\n",
    "and the price $\\tilde S_t$ at which we transact is given by\n",
    "\n",
    "$$\n",
    "\\tilde S_t = S_t - \\eta\\,v_t\n",
    "$$\n",
    "\n",
    "where $v_t:=-{\\dot x}_t$ is the rate of trading with $x_0 = X$ and $x_T = 0$.\n",
    "\n",
    "In the lecture notes, we showed that with a risk term that penalizes average VaR instead of variance, the risk-adjusted cost of trading associated with a given price path $\\{S_t\\}$ is given by\n",
    "\n",
    "$$\n",
    "C = \\int_0^T\\,(S_t - \\eta\\,v_t) \\,dx_t + \\lambda\\,\\sigma\\,\\int_0^T\\,x_t\\,dt\n",
    "$$\n",
    "\n",
    "for some price of risk $\\lambda$. We want to find a (possibly state-dependent) control $v_t$ that minimizes the expected cost $\\cC=\\E[C]$.\n",
    "\n",
    "(a) Apply the technique of integration by parts to simplify the term $\\int_0^T S_t dx_t$. Does the optimal strategy depend on the stock price $S_t$?  Why not?  Write down the HJB equation for the resulting problem."
   ]
  },
  {
   "cell_type": "markdown",
   "metadata": {},
   "source": [
    "#### <font color=blue> Solution (a)</font>\n",
    "\n",
    "Apply the technique of integration by parts to $\\int_0^T S_t dx_t$, we can get\n",
    "\n",
    "$$\n",
    "\\left.\\int_0^T S_t\\,dx_t =  S_t\\,x_t \\right\\vert_0^T - \\int_0^T x_t\\,dS_t = -XS -\\int_0^T\\sigma x_tdZ_t,\n",
    "$$\n",
    "\n",
    "Thus    \n",
    "$$\n",
    "\\E\\left[ \\int_0^T S_t\\,dx_t \\right] = -XS\n",
    "$$\n",
    "\n",
    "From lecture we know the exptected cost $\\cC$ is\n",
    "\n",
    "$$\n",
    "\\mathbb{E}[\\cC]\n",
    "= \\mathbb{E}_{v_t\\in\\mathcal G} \\left\\{-XS + \\E\\left[\\int_0^T\\,\\eta\\,v_t^2 dt + \\lambda\\,\\sigma\\,\\int_0^T\\,x_t\\,dt\\right]\\right\\}\n",
    "$$\n",
    "\n",
    "\n",
    "The value functiion $C$ is \n",
    "\n",
    "$$\n",
    "C(t,x) = \\min_{v\\in\\mathcal G[t,T]} \\left\\{\\lambda\\,\\sigma\\,\\int_0^T\\,x_t\\,dt + \\int_0^T\\,\\eta\\,v_t^2 d t \\right\\}\n",
    "$$\n",
    "\n",
    "The running cost $h(t,x,v) = \\lambda\\,\\sigma\\, x_t + \\eta\\,v_t^2$\n",
    "\n",
    "The infinitesimal generator is\n",
    "$$\n",
    "\\mathcal L^{(v)} C(t,x) = (\\frac{\\sigma^2}2 \\p_x^2 + \\mu \\p_x)C(t,x) = -v\\,C_x\n",
    "$$\n",
    "The HJB equation reads\n",
    "\n",
    "$$\n",
    "\\frac{\\partial C}{\\partial t} + \\lambda\\,\\sigma\\,x + \\min_{v \\in \\mathcal{G}}\\left\\{-v\\,C_x + \\eta\\,v^2\\right\\}=0.\n",
    "$$"
   ]
  },
  {
   "cell_type": "markdown",
   "metadata": {},
   "source": [
    "(b) Solve the first order condition to find the optimal trading rate $v^\\star$.    "
   ]
  },
  {
   "cell_type": "markdown",
   "metadata": {},
   "source": [
    "#### <font color=blue> Solution (b)</font>\n",
    "\n",
    "From (a), we know $\\min_{v \\in \\mathcal{G}}\\left\\{-v\\,C_x + \\eta\\,v^2\\right\\}$.\n",
    "\n",
    "Obviously we can derive that $v^\\star = \\frac{C_x}{2\\eta}$."
   ]
  },
  {
   "cell_type": "markdown",
   "metadata": {},
   "source": [
    "(c) Substitute $v^\\star$ back into the HJB equation to show that the value function $\\cC$ must satisfy\n",
    "$$\n",
    "\\cC_t = \\frac{\\cC_x^2}{4\\,\\eta\\,} - \\lambda \\sigma x.\n",
    "$$\n"
   ]
  },
  {
   "cell_type": "markdown",
   "metadata": {},
   "source": [
    "#### <font color=blue> Solution (c)</font>\n",
    "\n",
    "Substitute $v^\\star$ back into the HJB equation we get\n",
    "\n",
    "$$\n",
    "\\frac{\\partial C}{\\partial t} + \\lambda\\,\\sigma\\,x - \\frac{C_x^2}{4\\eta}=0.\n",
    "$$\n",
    "\n",
    "Thus\n",
    "\n",
    "$$\n",
    "\\cC_t = \\frac{\\cC_x^2}{4\\,\\eta\\,} - \\lambda \\sigma x.\n",
    "$$"
   ]
  },
  {
   "cell_type": "markdown",
   "metadata": {},
   "source": [
    "(d) With the terminal condition, \n",
    "\n",
    "$$\\lim_{t\\uparrow T}\\cC(t,x) = \\begin{cases}0&\\text{if $x=0$,}\\\\\n",
    "+\\infty&\\text{if $x\\neq0$.}\n",
    "\\end{cases}$$\n",
    "\n",
    "solve the HJB equaiton with the ansatz $\\cC(t,x) = \\eta\\,\\left[a(t)\\,x^2 + b(t)\\,x + c(t)\\right]$. Verify that the optimal trading rate is given by\n",
    "\n",
    "$$\n",
    "v^\\star = \\frac{x}{T-t} + \\frac{1}{4}\\, \\kappa \\, (T-t)\n",
    "$$\n",
    "\n",
    "with \n",
    "\n",
    "$$\n",
    "\\kappa = \\frac{\\lambda\\,\\sigma}{\\eta}.\n",
    "$$"
   ]
  },
  {
   "cell_type": "markdown",
   "metadata": {},
   "source": [
    "#### <font color=blue> Solution (d) </font>\n",
    "\n",
    "Since $C(t,x) = a(t)x^2 + b(t)x + c(t)$\n",
    "\n",
    "we can get\n",
    "\n",
    "$$\n",
    "a' \\,x^2 + b'\\,x + c' - \\frac{(2ax + b)^2}{4\\eta} + \\lambda\\sigma x = 0\n",
    "$$\n",
    "\n",
    "comparing the coefficient\n",
    "\\begin{eqnarray*}\n",
    "x^2 &:& a' - \\frac{a^2}{\\eta} = 0, \\\\\n",
    "x &:& b' - \\frac{ab}{\\eta} + \\lambda\\sigma = 0, \\\\\n",
    "1 &:& c' - \\frac{b^2}{4\\eta} = 0.\n",
    "\\end{eqnarray*}\n",
    "\n",
    "So that:\n",
    "\\begin{eqnarray*}\n",
    "&& a(t) = \\frac{\\eta}{T-t}, \\\\\n",
    "&& b(t) = \\frac{\\lambda \\sigma}{2} (T-t), \\\\\n",
    "&& c(t) = \\frac{\\lambda^2 \\sigma^2}{48\\eta} (t-T)^3.\n",
    "\\end{eqnarray*}\n",
    "\n",
    "Using the boundary condition, we obtain the solution to the system of ODEs as\n",
    "\\begin{eqnarray*}\n",
    "&& a(t) = \\frac{\\eta}{T-t}, \\\\\n",
    "&& b(t) = \\frac{\\lambda \\sigma}{2} (T-t), \\\\\n",
    "&& c(t) = \\frac{\\lambda^2 \\sigma^2}{48\\eta} (t-T)^3.\n",
    "\\end{eqnarray*}\n",
    "\n",
    "$$\n",
    "v^\\star = \\frac{C_x}{2\\eta} = \\frac{2ax + b}{2\\eta}\n",
    "$$\n",
    "\n",
    "Pluge in the result:\n",
    "$$\n",
    "v^\\star = \\frac{x}{T-t} + \\frac{1}{4}\\, \\kappa \\, (T-t)\n",
    "$$\n",
    "\n",
    "So, we have,\n",
    "\n",
    "$$\\begin{align}\n",
    "E[C] &= \\lambda\\,\\sigma\\,\\int_0^T\\,x_t\\,dt + \\int_0^T\\,\\eta\\,v_t^2 d t  \\\\\n",
    "&= X(\\lambda \\sigma + \\frac{4\\eta X}{T^2}) \\int_0^T (1 - \\frac{t}{T})^2 d t \\\\\n",
    "&= \\frac{XT}{3}(\\lambda \\sigma + \\frac{4\\eta X}{T^2})\n",
    "\\end{align}\n",
    "$$"
   ]
  },
  {
   "cell_type": "markdown",
   "metadata": {},
   "source": [
    "(e) Define the characteristic time $T^\\star$ as\n",
    "\n",
    "$$\n",
    "T^\\star=\\sqrt{\\frac{4\\,X}{\\kappa}}=\\sqrt{\\frac{4\\,\\eta\\,X}{\\lambda\\,\\sigma}}.\n",
    "$$\n",
    "\n",
    "\n",
    "Verify that the optimal trading strategy with liquidation horizon set to the characteristic time $T^\\star$ is given by\n",
    "\n",
    "$$\n",
    "\\begin{eqnarray*}\n",
    "x_t&=&X\\,\\left(1-\\frac{t}{T}\\right)^2.\n",
    "\\end{eqnarray*}\n",
    "$$"
   ]
  },
  {
   "cell_type": "markdown",
   "metadata": {},
   "source": [
    "#### <font color=blue> Solution (e) </font>\n",
    "\n",
    "From the previous problem we know\n",
    "$$\n",
    "v^\\star = \\frac{x}{T-t} - \\frac{1}{4}\\, \\kappa \\, (T-t)\n",
    "$$\n",
    "which means\n",
    "$$\n",
    "\\frac{dx}{dt} = \\frac{x}{T-t} - \\frac{1}{4}\\, \\kappa \\, (T-t)\n",
    "$$\n",
    "\n",
    "Solve this ODE, we can get\n",
    "$$\n",
    "x = c_1 (t-T) + \\frac{\\lambda \\sigma t(t-T)}{4 \\eta}\n",
    "$$\n",
    "$x(0) = X$ so that\n",
    "$$c_1 = \\frac{X}{-T}$$\n",
    "\n",
    "The solution is \n",
    "$$\n",
    "\\begin{align}\n",
    "x(t) &= \\frac{X}{-T}(t-T) + \\frac{xt}{(T^\\star)^2} (t-T) \\\\\n",
    "&= \\left( \\frac{X}{T} - \\frac{XT}{(T^\\star)^2}t\\right)\\left(1-\\frac{t}{T}\\right)\n",
    "\\end{align}\n",
    "$$\n",
    "\n",
    "so that\n",
    "$$\n",
    "x_t = X\\,\\left(1-\\frac{t}{T}\\right)^2\n",
    "$$"
   ]
  },
  {
   "cell_type": "markdown",
   "metadata": {},
   "source": [
    "## ABM and GBM"
   ]
  },
  {
   "cell_type": "markdown",
   "metadata": {},
   "source": [
    "### Download MSFT data"
   ]
  },
  {
   "cell_type": "code",
   "execution_count": 1,
   "metadata": {
    "collapsed": false
   },
   "outputs": [
    {
     "name": "stderr",
     "output_type": "stream",
     "text": [
      "Loading required package: xts\n",
      "Loading required package: zoo\n",
      "\n",
      "Attaching package: ‘zoo’\n",
      "\n",
      "The following objects are masked from ‘package:base’:\n",
      "\n",
      "    as.Date, as.Date.numeric\n",
      "\n"
     ]
    }
   ],
   "source": [
    "library(highfrequency)\n",
    "download.file(url=\"http://mfe.baruch.cuny.edu/wp-content/uploads/2015/03/MSFT130311.rData_.zip\", destfile=\"MSFT130311.zip\")\n",
    "unzip(zipfile=\"MSFT130311.zip\")\n",
    "load(\"MSFT130311.rData\")"
   ]
  },
  {
   "cell_type": "code",
   "execution_count": 2,
   "metadata": {
    "collapsed": true
   },
   "outputs": [],
   "source": [
    "library(repr)\n",
    "options(repr.plot.height=5)"
   ]
  },
  {
   "cell_type": "markdown",
   "metadata": {},
   "source": [
    "### 2. (8 points)\n",
    "\n",
    "Recall from the lecture slides that with time-averaged VaR as the risk penalty, and when the liquidation time $T$ is chosen to be the characteristic time, the optimal trading rate under ABM becomes\n",
    "\n",
    "$$\n",
    "v^A(t)= \\frac{x_t}{T-t}\\,+\\frac{X}{T}\\,\\left(1-\\frac t T\\right)\n",
    "$$\n",
    "\n",
    "and the optimal trading rate under GBM becomes\n",
    "\n",
    "$$\n",
    "v^G(t)= \\frac{x_t}{T-t}\\,+\\frac{X}{T}\\,\\frac{S_t}{S_0}\\,\\left(1-\\frac t T\\right).\n",
    "$$\n",
    "\n",
    "(a) The *msft.bats* dataset from *MSFT130311.rData* contains all trades on the BATS exchange on 11-Mar-2013.  One trading days has 390 minutes.  Sample the  *msft.bats* dataset evenly, roughly every minute of volume time.  Superimpose plots of the optimal strategy under ABM and GBM assuming liquidation takes place over one trading day.\n",
    "\n",
    "#### <font color=blue> Solution (a) </font>\n"
   ]
  },
  {
   "cell_type": "code",
   "execution_count": 3,
   "metadata": {
    "collapsed": false
   },
   "outputs": [
    {
     "data": {
      "image/png": "[encoded data removed]",
      "text/plain": [
       "plot without title"
      ]
     },
     "metadata": {},
     "output_type": "display_data"
    }
   ],
   "source": [
    "# Get access to the data\n",
    "data <- msft130311.bats\n",
    "\n",
    "# Implement the optimal trading rate functions under two assumptions.\n",
    "Cal_V_A <- function(xt, t){xt/(T-t) + X/T*(1 - t/T)}\n",
    "Cal_V_G <- function(xt, t, St){xt/(T-t) + X/T * St/S0 * (1 - t/T)}\n",
    "\n",
    "# Time steps to sample\n",
    "Steps <- 390\n",
    "\n",
    "# Initial shares to liquidate\n",
    "X <- 1000\n",
    "\n",
    "# Price of risk\n",
    "lambda <- 0.001\n",
    "\n",
    "# Compute the total volume\n",
    "volume <- data$signed.shares\n",
    "vol_minute <- round(sum(abs(volume))/Steps)\n",
    "\n",
    "# Sample the share price based on the volume time\n",
    "S_t <- data$trade.price[!duplicated(floor(cumsum(abs(volume))/vol_minute))]\n",
    "\n",
    "# Initial price when I begin to liquidate\n",
    "S0 <- S_t[1]\n",
    "\n",
    "# Characteristic time\n",
    "T <- sqrt(4*X/(lambda * S0))\n",
    "#T <- Steps\n",
    "\n",
    "# Position sizes\n",
    "X_A <- rep(0, Steps)\n",
    "X_G <- rep(0, Steps)\n",
    "X_A[1] <- X\n",
    "X_G[1] <- X\n",
    "\n",
    "# trading rate at each time step\n",
    "V_A <- rep(0, Steps)\n",
    "V_G <- rep(0, Steps)\n",
    "\n",
    "for(i in 1:(Steps-1))\n",
    "{\n",
    "    V_A[i] <- Cal_V_A(X_A[i], i)\n",
    "    X_A[i+1] <- X_A[i] - V_A[i]\n",
    "    \n",
    "    V_G[i] <- Cal_V_G(X_G[i], i, S_t[i])\n",
    "    X_G[i+1] <- X_G[i] - V_G[i]\n",
    "}\n",
    "\n",
    "t <- seq(0,Steps - 1)\n",
    "\n",
    "plot(t,V_A,col=\"red\",type=\"l\", ylab = expression(\"Trading rate\"), xlab = expression(\"minute based on volume time\"))\n",
    "\n",
    "lines(t,V_G,main=\"Optimal trading rate under two assumptions\", col=\"blue\", type=\"l\")\n",
    "\n",
    "legend(\"topright\", c(\"ABM\",\"GBM\"),\n",
    "           lty = c(1,1), col=c(\"red\",\"blue\"))"
   ]
  },
  {
   "cell_type": "markdown",
   "metadata": {},
   "source": [
    "(b) Denote the corresponding position sizes by $x^A(t)$ and $x^G(t)$ respectively.  What is the maximum deviation of the two position sizes as a percentage of the initial position $X$?  How significant is this deviation?\n",
    "\n",
    "#### <font color=blue> Solution (b) </font>\n"
   ]
  },
  {
   "cell_type": "code",
   "execution_count": 4,
   "metadata": {
    "collapsed": false
   },
   "outputs": [
    {
     "name": "stdout",
     "output_type": "stream",
     "text": [
      "the maximum deviation of the two position sizes as a percentage of the initial position X = 0.122978884800318 %"
     ]
    }
   ],
   "source": [
    "max_diff <- max(abs(X_A - X_G))\n",
    "deviation <- max_diff / X\n",
    "cat(paste(\"the maximum deviation of the two position sizes as a percentage of the initial position X =\",deviation*100, \"%\"))"
   ]
  },
  {
   "cell_type": "markdown",
   "metadata": {},
   "source": [
    "Appearantly, 0.123% is very insignificant."
   ]
  },
  {
   "cell_type": "markdown",
   "metadata": {},
   "source": [
    "## Kratz and Schöneborn with time-averaged VaR risk charge"
   ]
  },
  {
   "cell_type": "markdown",
   "metadata": {},
   "source": [
    "### 3. (12 points)\n",
    "\n",
    "(a) Repeat the computation of the optimal strategy from the lecture notes with time-averaged VaR\n",
    "\n",
    "$$\n",
    "\\lambda\\,\\sigma\\,\\int_0^T\\,x_t\\,dt\n",
    "$$\n",
    "\n",
    "as the risk term (rather than the quadratic variation $\\lambda\\,\\sigma^2\\,\\int_0^T\\,x_t^2\\,dt$).  Show that the optimal position\n",
    "\n",
    "$$\n",
    "x^\\star(t)=\\left(X-\\frac{A\\, T}{\\theta }\\right)\\,\\frac{1-e^{-\\theta\\,(T-t)} }{1-e^{-\\theta\\,T }}+\\frac{A }{\\theta }\\,(T-t)\n",
    "$$\n",
    "and deduce the optimal trading rate $v^\\star(t)$."
   ]
  },
  {
   "cell_type": "markdown",
   "metadata": {},
   "source": [
    "#### <font color=blue> Solution (a) </font>\n",
    "\n",
    "The expected cost of liquidation with time-averaged VaR risk penalty is given by\n",
    "\n",
    "$$\n",
    "C(t) = \\eta \\mathbb{E}\\left[ \\int_t^T\\,\\dot x_u^2 + \\kappa x_u\\,du \\right]\n",
    "$$\n",
    "where $\\kappa := \\lambda\\sigma / \\eta$\n",
    "\n",
    "$$\n",
    "dC^C = \\eta (v_t^2 + \\kappa x_t)dt - v_t C_x dt\n",
    "$$\n",
    "\n",
    "Contribution from dark pool execution (if it occurs) is<br>\n",
    "$$\n",
    "dC^D = C(x_t - y_t) - C(x)\n",
    "$$\n",
    "\n",
    "\n",
    "Thus the corresponding HJB equation is\n",
    "\n",
    "$$\n",
    "C_t + \\eta\\kappa x_t + \\min_{v,y \\in \\mathcal{G}} \\left\\{ -vC_x +\\eta v^2 + \\theta \\left[C(x_t-y_t)-C(x_t)\\right] \\right\\} = 0\n",
    "$$\n",
    "\n",
    "The y that minimizes $[C(x_t-y)-C(x_t)]$ is $y^\\star=x_t$ and  $v^\\star =\\frac{C_x}{2\\eta}$ \n",
    "\n",
    "$$\n",
    "C_t+\\eta\\kappa x_t-\\frac{C_x^2}{4\\eta}-\\theta C=0\n",
    "$$\n",
    "\n",
    "Since the terminal condition\n",
    "$$\\lim_{t\\uparrow T} C(t,x) = \\begin{cases}0&\\text{if $x=0$,}\\\\\n",
    "+\\infty&\\text{if $x\\neq0$.}\n",
    "\\end{cases}$$\n",
    "\n",
    "Again we use the ansatz $C(t,x) = a(t)x^2 + b(t)x + c(t)$, the pde becomes\n",
    "\n",
    "$$\n",
    "(a' \\,x^2 + b'\\,x + c') + \\lambda\\sigma x - \\frac{(2ax + b)^2}{4\\eta} - \\theta (ax^2 + bx + c) = 0\n",
    "$$\n",
    "\n",
    "so that\n",
    "\\begin{eqnarray*}\n",
    "x^2 &:& a' - \\frac{a^2}{\\eta} - \\theta a= 0, \\\\\n",
    "x &:& b' - \\frac{ab}{\\eta} + \\lambda\\sigma - \\theta b = 0, \\\\\n",
    "1 &:& c' - \\frac{b^2}{4\\eta} - \\theta c= 0.\n",
    "\\end{eqnarray*}\n",
    "\n",
    "The result is:\n",
    "\\begin{eqnarray*}\n",
    "&& a(t) = -\\frac{\\theta\\eta}{2} \\left(1-\\mbox{coth}(\\frac{\\theta}{2}(T-t))\\right), \\\\\n",
    "&& b(t) = \\frac{2A\\eta}{\\theta} + A\\eta (T-t) \\left(1-\\mbox{coth}(\\frac{\\theta}{2}(T-t))\\right), \\\\\n",
    "\\end{eqnarray*}\n",
    "\n",
    "Thus\n",
    "\n",
    "$$\n",
    "\\begin{align}\n",
    "v^\\star \n",
    "&= \\frac{C_x}{2 \\eta} \\\\\n",
    "&= \\frac{2ax + b}{2 \\eta} \\\\\n",
    "&= \\frac{1}{2\\eta}\\left[ -2\\frac{\\theta\\eta}{2} \\left(1-\\mbox{coth}(\\frac{\\theta}{2}(T-t))\\right)\\cdot x + \\frac{2A\\eta}{\\theta} + A\\eta (T-t) \\left(1-\\mbox{coth}(\\frac{\\theta}{2}(T-t))\\right) \\right]\n",
    "\\end{align}\n",
    "$$\n",
    "\n",
    "Since $v^\\star = -\\frac{dx}{dt}$ and $x(0) = X$ so that \n",
    "$$\n",
    "x(t) = \\frac{A}{\\theta}(T-t) + \\left(X-\\frac{AT}{\\theta}\\right) \\frac{1-e^{-\\theta(T-t)}}{1-e^{-\\theta T}}\n",
    "$$\n"
   ]
  },
  {
   "cell_type": "markdown",
   "metadata": {},
   "source": [
    "(b) By Taylor-expanding the solution around $\\theta=0$, show that we retrieve the solution derived in the slides with no dark pool\n",
    "\n",
    "$$\n",
    "x^\\star(t)=\\left(X-\\frac{A \\, T}{2}\\,t\\right)\\,\\left(1-\\frac{t}{T}\\right) .\n",
    "$$\n",
    "\n",
    "in the limit $\\theta \\to 0$."
   ]
  },
  {
   "cell_type": "markdown",
   "metadata": {},
   "source": [
    "#### <font color=blue> Solution (b) </font>\n",
    "\n",
    "From the previous problem\n",
    "$$\n",
    "\\begin{align}\n",
    "x^\\star(t) &= \\left(X-\\frac{A\\, T}{\\theta }\\right)\\,\\frac{1-e^{-\\theta\\,(T-t)} }{1-e^{-\\theta\\,T }}+\\frac{A }{\\theta }\\,(T-t) \\\\\n",
    "&= X \\frac{1-e^{-\\theta(T-t)}}{1-e^{-\\theta T}} - A \\left(\\frac{T-t}{\\theta} - \\frac{T(1-e^{-\\theta(T-t)})}{\\theta(1-e^{-\\theta T})}\\right)\n",
    "\\end{align}\n",
    "$$\n",
    "\n",
    "for the first part,\n",
    "$$\n",
    "\\begin{align}\n",
    "\\lim_{\\theta \\to 0} \\frac{1-e^{-\\theta\\,(T-t)} }{1-e^{-\\theta\\,T }}\n",
    "&= \\lim_{\\theta \\to 0} \\frac{(T-t)e^{-\\theta\\,(T-t)} }{Te^{-\\theta\\,T }}\\\\\n",
    "&= \\lim_{\\theta \\to 0} e^{\\theta t} - \\frac{t}{T} e^{-\\theta (T-t) + \\theta T} \\\\\n",
    "&= 1 - \\frac{t}{T}\n",
    "\\end{align}\n",
    "$$\n",
    "\n",
    "for the second part,\n",
    "$$\n",
    "\\begin{align}\n",
    "\\lim_{\\theta \\to 0} A \\left(\\frac{T-t}{\\theta} - \\frac{T(1-e^{-\\theta(T-t)})}{\\theta(1-e^{-\\theta T})} \\right) \n",
    "&= \\lim_{\\theta \\to 0} A\\,\\left( \\frac{T\\,(e^{-\\theta(T-t)}-e^{-\\theta T}) - t(1-e^{-\\theta T})}{\\theta (1-e^{-\\theta T})}\\right) \\\\\n",
    "&=\\lim_{\\theta \\to 0} A\\,\\left( \\frac{T\\,(-(T-t)e^{-\\theta(T-t)}+Te^{-\\theta T}) - t(Te^{-\\theta T})}{1-e^{-\\theta T}+\\theta T (e^{-\\theta T})}\\right) \\\\\n",
    "&=\\lim_{\\theta \\to 0} A\\,\\left( \\frac{T\\,((T-t)^2e^{-\\theta(T-t)}-T^2e^{-\\theta T}) + t T^2 e^{-\\theta T}}{2Te^{-\\theta T}-\\theta T^2 e^{-\\theta T}}\\right) \\\\\n",
    "&= A\\, \\left(\\frac{t^2-tT}{2}\\right) \\\\\n",
    "&= \\frac{At}{2} (t-T)\n",
    "\\end{align}\n",
    "$$\n",
    "\n",
    "Combining these two, we get\n",
    "$$\n",
    "x^\\star(t)=\\left(X-\\frac{A \\, T}{2}\\,t\\right)\\,\\left(1-\\frac{t}{T}\\right)\n",
    "$$"
   ]
  }
 ],
 "metadata": {
  "kernelspec": {
   "display_name": "R",
   "language": "R",
   "name": "ir"
  },
  "language_info": {
   "codemirror_mode": "r",
   "file_extension": ".r",
   "mimetype": "text/x-r-source",
   "name": "R",
   "pygments_lexer": "r",
   "version": "3.3.2"
  }
 },
 "nbformat": 4,
 "nbformat_minor": 0
}
