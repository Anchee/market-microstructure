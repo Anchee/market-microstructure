{
 "cells": [
  {
   "cell_type": "markdown",
   "metadata": {},
   "source": [
    "# MTH9879 Homework 8\n",
    "\n",
    "Assigned: April 4, 2017.\n",
    "Due: May 2, 2017 by 6pm. \n",
    "\n",
    "Late homework **will not be accepted**.\n",
    "\n",
    "$$\n",
    "\\newcommand{\\supp}{\\mathrm{supp}}\n",
    "\\newcommand{\\E}{\\mathbb{E}}\n",
    "\\newcommand{\\Eof}[1]{\\mathbb{E}\\left[ #1 \\right]}\n",
    "\\def\\Cov{{ \\mbox{Cov} }}\n",
    "\\def\\Var{{ \\mbox{Var} }}\n",
    "\\newcommand{\\1}{\\mathbf{1} }\n",
    "\\newcommand{\\PP}{\\mathbb{P} }\n",
    "%\\newcommand{\\Pr}{\\mathrm{Pr} }\n",
    "\\newcommand{\\QQ}{\\mathbb{Q} }\n",
    "\\newcommand{\\RR}{\\mathbb{R} }\n",
    "\\newcommand{\\DD}{\\mathbb{D} }\n",
    "\\newcommand{\\HH}{\\mathbb{H} }\n",
    "\\newcommand{\\spn}{\\mathrm{span} }\n",
    "\\newcommand{\\cov}{\\mathrm{cov} }\n",
    "\\newcommand{\\sgn}{\\mathrm{sgn} }\n",
    "\\newcommand{\\HS}{\\mathcal{L}_{\\mathrm{HS}} }\n",
    "%\\newcommand{\\HS}{\\mathrm{HS} }\n",
    "\\newcommand{\\trace}{\\mathrm{trace} }\n",
    "\\newcommand{\\LL}{\\mathcal{L} }\n",
    "%\\newcommand{\\LL}{\\mathrm{L} }\n",
    "\\newcommand{\\s}{\\mathcal{S} }\n",
    "\\newcommand{\\ee}{\\mathcal{E} }\n",
    "\\newcommand{\\ff}{\\mathcal{F} }\n",
    "\\newcommand{\\hh}{\\mathcal{H} }\n",
    "\\newcommand{\\bb}{\\mathcal{B} }\n",
    "\\newcommand{\\dd}{\\mathcal{D} }\n",
    "\\newcommand{\\g}{\\mathcal{G} }\n",
    "\\newcommand{\\p}{\\partial}\n",
    "\\newcommand{\\half}{\\frac{1}{2} }\n",
    "\\newcommand{\\T}{\\mathcal{T} }\n",
    "\\newcommand{\\bi}{\\begin{itemize}}\n",
    "\\newcommand{\\ei}{\\end{itemize}}\n",
    "\\newcommand{\\beq}{\\begin{equation}}\n",
    "\\newcommand{\\eeq}{\\end{equation}}\n",
    "\\newcommand{\\beas}{\\begin{eqnarray*}}\n",
    "\\newcommand{\\eeas}{\\end{eqnarray*}}\n",
    "\\newcommand{\\cO}{\\mathcal{O}}\n",
    "\\newcommand{\\cF}{\\mathcal{F}}\n",
    "\\newcommand{\\cL}{\\mathcal{L}}\n",
    "\\newcommand{\\BS}{\\text{BS}}\n",
    "$$"
   ]
  },
  {
   "cell_type": "markdown",
   "metadata": {},
   "source": [
    "<font color = \"red\">Homework is to be done by each student individually.  To receive full credit, you must email a completed copy of this iPython notebook to Victor Istratov (stavka@gmail.com), Yassine Ghalem (yassine.ghalem@gmail.com) and Jim Gatheral (jim.gatheral@gmail.com) by the due date and time.  All R-code must run correctly and solutions must be written up neatly in Markdown/LaTeX format."
   ]
  },
  {
   "cell_type": "markdown",
   "metadata": {},
   "source": [
    "### R version 3.3.2 (2016-10-31) (ubuntu)"
   ]
  },
  {
   "cell_type": "markdown",
   "metadata": {},
   "source": [
    "### 0. (0 points) \n",
    "Read Section 6.7 of Bouchaud, Farmer and Lillo."
   ]
  },
  {
   "cell_type": "markdown",
   "metadata": {},
   "source": [
    "## Predictability of order flow"
   ]
  },
  {
   "cell_type": "markdown",
   "metadata": {},
   "source": [
    "### 1. (6 points)\n",
    "\n",
    "Suppose that the distribution of meta order sizes $Q$ is exponential so that\n",
    "\n",
    "$$\n",
    "\\Pr(Q>V)= \\frac{1}{\\lambda}\\,e^{-\\lambda\\,V}\n",
    "$$\n",
    "\n",
    "Assuming slices of  constant size $\\bar v$, compute the conditional probability that a hidden order has more slices given that $n$ slices have already been observed.  Compare your result with the case where distribution of metaorder size is power-law."
   ]
  },
  {
   "cell_type": "markdown",
   "metadata": {},
   "source": [
    "#### <font color=blue> Solution </font>\n",
    "\n",
    "From definition, the conditional probability is\n",
    "\n",
    "<a name=\"exponential\"></a>(1)\n",
    "$$\n",
    "\\Pr(Q \\geq (n+1)\\bar v|Q \\ge n \\bar v) = \\frac{\\Pr(Q \\ge (n+1)\\bar v)}{\\Pr(Q \\ge n \\bar v)} = e^{-\\lambda \\bar v}\n",
    "$$\n",
    "\n",
    "\n",
    "From lecture, we know \n",
    "\n",
    "<a name=\"power-law\"></a>(2)\n",
    "$$\n",
    "q_t = \\Pr(T \\geq t+1|T \\ge t) = \\frac{\\Pr(T \\ge t+1)}{\\Pr(T \\ge t)} \\sim \\left(\\frac{t}{t+1}\\right)^\\beta\n",
    "$$\n",
    "Comparing these two, we can find following difference:\n",
    "- [(1)](#eq:exponential) shows the conditional probability is a constant\n",
    "- [(2)](#eq:power-law) shows the conditional probability increases as the order size increases.\n"
   ]
  },
  {
   "cell_type": "markdown",
   "metadata": {},
   "source": [
    "## Price manipulation"
   ]
  },
  {
   "cell_type": "markdown",
   "metadata": {},
   "source": [
    "### 2. (10 points)\n",
    "\n",
    "Consider the price process\n",
    "\n",
    "$$\n",
    "S_t=S_0+\\int_0^t\\,f(\\dot{x}_s)\\,G(t-s)\\,ds+\\int_0^t\\,\\sigma\\,dZ_s\n",
    "$$\n",
    "\n",
    "where ${\\dot x}_s$ is the rate of trading in dollars at time $s < t$, $f(\\dot{x}_s)$ represents the impact of trading at time $s$ and $G(t-s)$ is a decay factor.\n",
    "\n",
    "(a) With the choices\n",
    "\n",
    "$$\n",
    "f(v)=\\sqrt{v},\\quad G(\\tau)=\\frac{1}{1+\\tau},\n",
    "$$\n",
    "    \n",
    "repeat the computations in Lecture 8  to derive an expression for the expected cost of accumulating shares at the rate $v_1$ and liquidating them at the rate $v_2$."
   ]
  },
  {
   "cell_type": "markdown",
   "metadata": {},
   "source": [
    "#### <font color=blue> Solution (a) </font>\n",
    "\n",
    "From lecture we know\n",
    "\n",
    "$$\\begin{align}\n",
    "C_{11}&=v_1\\,f\\left(v_1\\right)\\,\\int_0^{\\theta\\,T}\\,dt\\,\\int_0^t\\,G(t-s)\\,ds \\\\ &= v_1^{3/2}(1+\\theta\\,T)\\ln(1+\\theta\\,T) - v_1^{3/2}\\theta\\,T \\\\\n",
    "C_{22}&=v_2\\,f\\left(v_2\\right)\\,\\int_{\\theta\\,T}^T\\,dt\\,\\int_{\\theta\\,T}^t\\,G(t-s)\\,ds \\\\ &= v_2^{3/2}(1+T-\\theta\\,T)\\ln(1+T-\\theta\\,T) + v_2^{3/2}(\\theta\\,T-T) \\\\\n",
    "C_{12}&=v_2f\\left(v_1\\right)\\,\\int_{\\theta\\,T}^T\\,dt\\,\\int_0^{\\theta\\,T}\\,G(t-s)\\,ds \\\\ &= v_2\\,\\sqrt v_1\\, \\left[(1+T)\\ln(1+T) - (1+\\theta\\,T) \\ln(1+\\theta T) - (1+T-\\theta\\,T)\\ln(1+T-\\theta\\,T)\\right]\n",
    "\\end{align}$$\n",
    "\n",
    "So the expected cost can be easily obtained by $C_{11} + C_{22} - C_{12}$\n"
   ]
  },
  {
   "cell_type": "markdown",
   "metadata": {},
   "source": [
    "(b) Verify that with $T=1$, $v_1=1/4$, $v_2=1$, the expected cost of this round-trip strategy is negative, thus demonstrating that price manipulation is possible. (Recall from the lecture slides that price manipulation is always possible if $f(\\cdot)$ is nonlinear and the decay kernel $G(\\cdot)$  is finite at the origin.)\n",
    "\n",
    "Hint: You might consider using Mathematica or Wolfram Alpha to do the integrations."
   ]
  },
  {
   "cell_type": "markdown",
   "metadata": {},
   "source": [
    "#### <font color=blue> Solution (b) </font>\n",
    "\n",
    "From $T = 1, v_1 = \\frac{1}{4}, v_2 = 1$, we know\n",
    "\n",
    "$$\n",
    "\\theta = \\frac{v_2}{v_1 + v_2} = 0.8\n",
    "$$\n",
    "\n",
    "Plugging into the above formula we have,\n",
    "\n",
    "$$\\begin{align}\n",
    "C_{11} + C_{22} - C_{12} &\\approx 0.0322519 + 0.01878586 -0.054746 \\\\& \\approx -0.0037083\n",
    "\\end{align}$$\n",
    "\n",
    "The trading cost is negative, so the price manipulation is possible."
   ]
  },
  {
   "cell_type": "markdown",
   "metadata": {},
   "source": [
    "## The Obizhaeva-Wang model"
   ]
  },
  {
   "cell_type": "markdown",
   "metadata": {},
   "source": [
    "### 3. (8 points)\n",
    "\n",
    "In the Obizhaeva Wang (OW) model, the price follows\n",
    "\n",
    "$$\n",
    "S_t=S_0+\\eta\\,\\int_0^t\\,{\\dot x}_s\\,e^{-\\rho\\,(t-s)}\\,ds+\\int_0^t\\,\\sigma\\,dZ_s\n",
    "$$\n",
    "\n",
    "(a) Derive an expression for the expected price path corresponding to a VWAP execution."
   ]
  },
  {
   "cell_type": "markdown",
   "metadata": {},
   "source": [
    "#### <font color=blue> Solution (a) </font>\n",
    "\n",
    "Let $n$ as the size of the metaorder, corresponding to a VWAP execution with duration $T$, $\\dot x = \\frac{n}{T}$\n",
    "\n",
    "The expected price path corresponding to a VWAP execution is,\n",
    "\n",
    "$$\\begin{align}\n",
    "\\mathrm{E}[S_t] &= S_0 + \\eta \\int_0^{t \\wedge T} \\frac{n}{T}e^{- \\rho\\,(t - s)}\\,ds \\\\\n",
    "&=S_0 + \\frac{n\\,\\eta}{\\rho\\,T}e^{-\\rho\\,t}(e^{\\rho\\,(t\\,\\wedge\\,T)}-1)\n",
    "\\end{align}$$"
   ]
  },
  {
   "cell_type": "markdown",
   "metadata": {},
   "source": [
    "(b) With the duration $T$ of the meta order set to 1, plot the expected price path from time $t=0$ to time $t=2$ for $\\rho=0.5,1,$ and $2$.\n",
    "#### <font color=blue> Solution (b) </font>\n",
    "Without loss of generality, set $S_0 = 0$, $n\\eta=1$"
   ]
  },
  {
   "cell_type": "code",
   "execution_count": 1,
   "metadata": {
    "collapsed": false
   },
   "outputs": [
    {
     "data": {
      "image/png": "[encoded data removed]",
      "text/plain": [
       "plot without title"
      ]
     },
     "metadata": {},
     "output_type": "display_data"
    }
   ],
   "source": [
    "expected_price <- function(t, rho, S0, n_eta, T){ # T is the duration of meta order\n",
    "    return (S0 + n_eta/(rho*T)*exp(-rho*t)*(exp(rho*min(t,T)) - 1))\n",
    "}\n",
    "\n",
    "# params\n",
    "T <- 1\n",
    "S0 <- 0\n",
    "n_eta <- 1\n",
    "rho <- c(0.5,1.0,2.0)\n",
    "\n",
    "# Create a path vector\n",
    "t_stamps <- seq(0, 2, 0.01)\n",
    "\n",
    "# apply defined function for different rho\n",
    "S_1 = sapply(t_stamps, function(t)expected_price(t, rho[1], S0, n_eta, T))\n",
    "S_2 = sapply(t_stamps, function(t)expected_price(t, rho[2], S0, n_eta, T))\n",
    "S_3 = sapply(t_stamps, function(t)expected_price(t, rho[3], S0, n_eta, T))\n",
    "    \n",
    "plot(t_stamps, S_1, type='l', xlab='Time Stamps', ylab='Expected Price', col='red')\n",
    "points(t_stamps, S_2, type='l', col='blue')\n",
    "points(t_stamps, S_3, type='l', col='green')"
   ]
  },
  {
   "cell_type": "markdown",
   "metadata": {},
   "source": [
    "(c) What is the expected average cost per share $\\bar S_T$ of a VWAP order in the OW model?\n",
    "#### <font color=blue> Solution (c) </font>"
   ]
  },
  {
   "cell_type": "markdown",
   "metadata": {},
   "source": [
    "Under VWAP execution, $\\dot x = \\frac{n}{T}$\n",
    "\n",
    "The expected total cost is,\n",
    "$$\\begin{align}\n",
    "C[\\Pi] &= \\eta\\,\\int_0^T\\,{\\dot x}_t\\,dt\\,\\int_0^t\\,{\\dot x}_s\\,\\exp\\left\\{-\\rho\\,(t-s)\\right\\}\\,ds \\\\\n",
    "&= \\eta\\,(\\frac{n}{T})^2\\,\\int_0^T\\,dt\\,\\int_0^t\\,e^{-\\rho\\,(t-s)}\\,ds \\\\\n",
    "&= \\eta\\,(\\frac{n}{T})^2\\,\\frac{1}{\\rho}\\,\\int_0^T\\,1-e^{-\\rho\\,t}dt \\\\\n",
    "&= \\frac{\\eta\\,n^2}{T^2\\,\\rho^2}(\\rho\\,T\\,+\\,e^{-\\rho\\,T}\\,-\\,1)\n",
    "\\end{align}$$\n",
    "\n",
    "So, the expected average trading cost per share is\n",
    "\n",
    "$$\n",
    "\\frac{C[\\Pi]}{n} = \\frac{\\eta\\,n}{T^2\\,\\rho^2}(\\rho\\,T\\,+\\,e^{-\\rho\\,T}\\,-\\,1)\n",
    "$$"
   ]
  }
 ],
 "metadata": {
  "kernelspec": {
   "display_name": "R",
   "language": "R",
   "name": "ir"
  },
  "language_info": {
   "codemirror_mode": "r",
   "file_extension": ".r",
   "mimetype": "text/x-r-source",
   "name": "R",
   "pygments_lexer": "r",
   "version": "3.3.2"
  }
 },
 "nbformat": 4,
 "nbformat_minor": 0
}
