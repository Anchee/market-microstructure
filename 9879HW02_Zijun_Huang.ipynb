{
 "cells": [
  {
   "cell_type": "markdown",
   "metadata": {},
   "source": [
    "# MTH9879 Homework 2\n",
    "\n",
    "Assigned: February 7, 2017.\n",
    "Due: February 21, 2017 by 6pm. \n",
    "\n",
    "Late homework **will not be accepted**.\n",
    "\n",
    "$$\n",
    "\\newcommand{\\supp}{\\mathrm{supp}}\n",
    "\\newcommand{\\E}{\\mathbb{E} }\n",
    "\\def\\Cov{{ \\mbox{Cov} }}\n",
    "\\def\\Var{{ \\mbox{Var} }}\n",
    "\\newcommand{\\1}{\\mathbf{1} }\n",
    "\\newcommand{\\PP}{\\mathbb{P} }\n",
    "%\\newcommand{\\Pr}{\\mathrm{Pr} }\n",
    "\\newcommand{\\QQ}{\\mathbb{Q} }\n",
    "\\newcommand{\\RR}{\\mathbb{R} }\n",
    "\\newcommand{\\DD}{\\mathbb{D} }\n",
    "\\newcommand{\\HH}{\\mathbb{H} }\n",
    "\\newcommand{\\spn}{\\mathrm{span} }\n",
    "\\newcommand{\\cov}{\\mathrm{cov} }\n",
    "\\newcommand{\\sgn}{\\mathrm{sgn} }\n",
    "\\newcommand{\\HS}{\\mathcal{L}_{\\mathrm{HS}} }\n",
    "%\\newcommand{\\HS}{\\mathrm{HS} }\n",
    "\\newcommand{\\trace}{\\mathrm{trace} }\n",
    "\\newcommand{\\LL}{\\mathcal{L} }\n",
    "%\\newcommand{\\LL}{\\mathrm{L} }\n",
    "\\newcommand{\\s}{\\mathcal{S} }\n",
    "\\newcommand{\\ee}{\\mathcal{E} }\n",
    "\\newcommand{\\ff}{\\mathcal{F} }\n",
    "\\newcommand{\\hh}{\\mathcal{H} }\n",
    "\\newcommand{\\bb}{\\mathcal{B} }\n",
    "\\newcommand{\\dd}{\\mathcal{D} }\n",
    "\\newcommand{\\g}{\\mathcal{G} }\n",
    "\\newcommand{\\p}{\\partial}\n",
    "\\newcommand{\\half}{\\frac{1}{2} }\n",
    "\\newcommand{\\T}{\\mathcal{T} }\n",
    "\\newcommand{\\bi}{\\begin{itemize}}\n",
    "\\newcommand{\\ei}{\\end{itemize}}\n",
    "\\newcommand{\\beq}{\\begin{equation}}\n",
    "\\newcommand{\\eeq}{\\end{equation}}\n",
    "\\newcommand{\\beas}{\\begin{eqnarray*}}\n",
    "\\newcommand{\\eeas}{\\end{eqnarray*}}\n",
    "\\newcommand{\\cO}{\\mathcal{O}}\n",
    "\\newcommand{\\cF}{\\mathcal{F}}\n",
    "\\newcommand{\\cL}{\\mathcal{L}}\n",
    "\\newcommand{\\BS}{\\text{BS}}\n",
    "$$"
   ]
  },
  {
   "cell_type": "markdown",
   "metadata": {},
   "source": [
    "<font color = \"red\">Homework is to be done by each student individually.  To receive full credit, you must email a completed copy of this iPython notebook to Victor Istratov (stavka@gmail.com), Yassine Ghalem (yassine.ghalem@gmail.com) and Jim Gatheral (jim.gatheral@gmail.com) by the due date and time.  All R-code must run correctly and solutions must be written up neatly in Markdown/LaTeX format.\n"
   ]
  },
  {
   "cell_type": "markdown",
   "metadata": {},
   "source": [
    "### R version 3.3.1 (2016-06-21) (ubuntu)"
   ]
  },
  {
   "cell_type": "markdown",
   "metadata": {},
   "source": [
    "### 0. (0 points) \n",
    "\n",
    "Read Chapter 12 of Hasbrouck and Section 6.4 of Foucault, Pagano and R&ouml;ell.\n"
   ]
  },
  {
   "cell_type": "markdown",
   "metadata": {},
   "source": [
    "## The Parlour (1998) model"
   ]
  },
  {
   "cell_type": "markdown",
   "metadata": {},
   "source": [
    "### 1. (10 points) \n",
    "Consider the first step $t = 1$ of the 3-step order book case presented in the lecture slides. Suppose that the order book at (or just before) $t = 1$ has one share offered and one share bid ($n_B = n_A = 1$).\n",
    "\n",
    "Give the probabilities as of a market buy, market sell, limit buy and limit sell at $t = 1$,\n",
    "You may use my Mathematica notebook *Parlour.nb* as a guide (if you wish)."
   ]
  },
  {
   "cell_type": "markdown",
   "metadata": {},
   "source": [
    "#### <font color=blue> Solution  </font>\n",
    "\n",
    "As mentioned in Parlour.nb, we know that:          \n",
    "$$\\mathbb{P}_{MS}[3] = \\mathbb{P}_{MB}[3] = \\frac{5}{22}$$                    \n",
    "$$\\mathbb{P}_{MS}[0,0][2] = \\mathbb{P}_{MB}[0,0][2] = \\mathbb{P}_{MS}[1,0][2] = \\mathbb{P}_{MB}[0,1][2] = \\frac{40}{187} $$        \n",
    "$$\\mathbb{P}_{LS}[0,0][2] = \\mathbb{P}_{LB}[0,0][2] = \\mathbb{P}_{LS}[1,0][2] = \\mathbb{P}_{LB}[0,1][2] = \\frac{1}{17}  $$               \n",
    "$$\\mathbb{P}_{LS}[0,1][2] = \\mathbb{P}_{LB}[1,0][2] = 0  $$          \n",
    "$$\\mathbb{P}_{MS}[0,1][2] = \\mathbb{P}_{MB}[1,0][2] = \\frac{5}{22}$$         \n",
    "$$\\mathbb{P}_{LB}[0,1][2] = \\mathbb{P}_{MB}[1,0][2] = \\frac{5}{22}$$\n",
    "\n",
    "\n",
    "Conditional on $(n_b, n_a) = (1, 1)$ book and the trader being a seller, if submitting a market order, the payoff is $B - \\beta_t V$ while the payoff is $(A-\\beta_t V) P$. Here $P$ is the probability of the limit order will be filled in the future, which is $P = \\frac{5}{22} \\frac{5}{22} = \\frac{25}{484}$. So if $\\beta_t < \\frac{A P - B}{V P - V} = \\frac{4540}{5049}$, the trader will submit market order\n",
    "\n",
    "Continuing in this way, we compute that a seller will choose as follows:\n",
    "\n",
    "\n",
    "| Action         |  Condition | Numerically |\n",
    "|----------------|--------------|-------------|\n",
    "| Market sell (MS) |     if $B-\\beta_t\\,V \\geq (A-\\beta_t\\,V)^+ P$      |    $0 \\leq \\beta_t<\\frac{4540}{5049}$         |\n",
    "| Limit sell (LS)  |     if $(A-\\beta_t\\,V) P >(B-\\beta_t\\,V)^+$      |   $\\frac{4540}{5049} \\leq \\beta_t<\\frac{12}{11}$          |\n",
    "| Do nothing     |     otherwise      |   $\\frac{12}{11}\\leq \\beta_t \\leq 2$          |\n",
    "\n",
    "\n",
    "In conclusion,\n",
    "$$\n",
    "\\begin{eqnarray*}\n",
    "{\\mathbb{P} }_{MS}&=&\\frac{1}{2}{\\mathbb{P} }\\left(\\beta_2<\\frac{4540}{5049}\\right)=\\frac{1135}{5049} = {\\mathbb{P} }_{MB}\\\\\n",
    "{\\mathbb{P} }_{LS}&=&\\frac{1}{2}{\\mathbb{P} }\\left(\\frac{12}{11}>\\beta_2>\\frac{4540}{5049}\\right)=\\frac{22}{459} = {\\mathbb{P} }_{LB}\\\\\n",
    "{\\mathbb{P} }_{0}&=&{\\mathbb{P} }\\left(\\beta_2>\\frac{12}{11}\\right)=\\frac{5}{11}\\\\\n",
    "\\end{eqnarray*}\n",
    "$$\n"
   ]
  },
  {
   "cell_type": "markdown",
   "metadata": {},
   "source": [
    "### 2. (4 points) \n",
    "Explain why the optimal market/limit order decision depends in general on quantity available on both sides of the order book in the Parlour model."
   ]
  },
  {
   "cell_type": "markdown",
   "metadata": {},
   "source": [
    "#### <font color=blue> Solution \n",
    "\n",
    "In the Parlour model, there are three tradings occuring in the first day. It is very obvious that the probability of a limit order being filled is lower with larger quantity available on both sides of the order book."
   ]
  },
  {
   "cell_type": "markdown",
   "metadata": {},
   "source": [
    "### Set up R-environment"
   ]
  },
  {
   "cell_type": "code",
   "execution_count": 60,
   "metadata": {
    "collapsed": false
   },
   "outputs": [],
   "source": [
    "download.file(url=\"http://mfe.baruch.cuny.edu/wp-content/uploads/2015/01/ziSetup.zip\", destfile=\"ziSetup.zip\")\n",
    "unzip(zipfile=\"ziSetup.zip\")\n",
    "source(\"ziSetup.R\")"
   ]
  },
  {
   "cell_type": "markdown",
   "metadata": {},
   "source": [
    "## Cont-Kukanov optimal order placement"
   ]
  },
  {
   "cell_type": "markdown",
   "metadata": {},
   "source": [
    "### 3. (16 points)\n",
    "\n",
    "Consider the two BATS exchanges BZX and BYX.  Suppose you are trying to buy shares of MSFT in 3.9 minutes ($1\\%$ of the trading day).  Suppose further that the two exchanges have the following characteristics:\n",
    "\n",
    "**Exchange** | **Make fee** | **Take fee** | **Daily volume** \n",
    "-----|-----:|-------:| ---- |\n",
    "| **(per share)** | **(per share)** | **(shares)** \n",
    "BZX | -0.32¢ | +0.30¢ | 10,500,000\n",
    "BYX | +0.03¢ | -0.03¢ | 1,300,000\n",
    "\n",
    "Assume the daily volatility of MSFT is $1\\%$ and that MSFT is trading at $\\$37.50$.\n",
    "\n",
    "(a) We may suppose that if your order is only partially filled, that's because the price moved away (*adverse selection*).  This suggests that we penalize any under fill of limit orders by $\\sigma\\,\\sqrt{T}$ where $T$ is the order duration.  Compute the corresponding value of $\\lambda_u$ in cents per share.\n",
    "\n",
    "#### <font color=blue> Solution (a)\n",
    "\n",
    "we can solve this by dimension analysis.\n",
    "\n",
    "| Parameter | Dimensions       |\n",
    "|:-----------:|:------------------:|\n",
    "|    $\\lambda_u$       | cents/share        |\n",
    "|    $P$       | cents/share |\n",
    "|    $\\sqrt T$       | $\\sqrt T$              |\n",
    "|    $\\sigma$ (return,per day)      | $1 / \\sqrt T$              |\n",
    "\n",
    "$\\ \\lambda_u = \\sigma\\,\\sqrt{T} = 1\\% \\times 37.50 \\times \\sqrt{1\\%}  = 0.0375\\ \\ dollars/share $\n",
    "\n",
    "$\\ \\lambda_u = 3.75 \\ cents/share$"
   ]
  },
  {
   "cell_type": "markdown",
   "metadata": {},
   "source": [
    "(b) Assuming a spread of $1$ cent, what are $h$, $f$, and $r$ for BZX and BYX respectively (in cents per share)?\n",
    "\n",
    "#### <font color=blue> Solution (b)\n",
    "Since $f$ is the fee for market order while $r$ is the rebate for limit order, so\n",
    "\n",
    "$spread = 1 \\ cents \\to h = s/2 = 0.5 \\ cents$\n",
    "\n",
    "For BZX:   $f=0.3 \\ cents$, $r=0.32 \\ cents$.\n",
    "\n",
    "For BYX:   $f=-0.03 \\ cents$, $r=-0.03 \\ cents$."
   ]
  },
  {
   "cell_type": "markdown",
   "metadata": {},
   "source": [
    "(c) Assuming no seasonality, what is the mean value $\\bar \\xi$ of $\\xi$ (over 3.9 minutes) for BZX and BYX respectively (in shares)?\n",
    "\n",
    "#### <font color=blue> Solution (c)\n",
    "\n",
    " For BZX: $\\bar \\xi = 1\\% \\times 10500000 = 105000$. \n",
    " \n",
    " For BYX: $\\bar \\xi = 1\\% \\times 1300000 = 13000$.\n",
    " \n",
    " "
   ]
  },
  {
   "cell_type": "markdown",
   "metadata": {},
   "source": [
    "(d)  Assume that $\\xi$ is log normally distributed with\n",
    "\n",
    "$$\n",
    "\\xi = \\bar \\xi \\,\\exp\\left\\{\\sigma\\,Z-\\frac 12\\,\\sigma^2\\right\\}.\n",
    "$$\n",
    "\n",
    "where $Z \\sim N(0,1)$ and $\\sigma = 1/2$.  What is the standard deviation of $\\xi$ (in terms of $\\bar \\xi$)?\n",
    "\n",
    "#### <font color=blue> Solution (d)\n",
    "$$\n",
    "\\begin{eqnarray*}\n",
    "var(\\xi) = \\bar{\\xi}^2\\left(e^{\\sigma^2}-1\\right)\n",
    "= \\bar{\\xi}^2\\left(e^{\\frac{1}{4}}-1\\right) \n",
    "\\end{eqnarray*}\n",
    "$$\n",
    "So the standard deviation of $\\xi$ is\n",
    "$$\n",
    "\\sigma_{\\xi}\n",
    "=\\bar{\\xi}\\sqrt{e^{1/4}-1} \\\\\n",
    "$$\n"
   ]
  },
  {
   "cell_type": "markdown",
   "metadata": {},
   "source": [
    "(e) Write R-code to determine the optimal order size $L^\\star+Q$ on BZX and BYX respectively. Assume here that you will either trade on BZX or BYX; there is no splitting of the order between the two exchanges. <br>\n",
    "(Hint: You may find the R function *qnorm(. )* useful).\n",
    "\n",
    "#### <font color=blue> Solution (e)\n"
   ]
  },
  {
   "cell_type": "code",
   "execution_count": 56,
   "metadata": {
    "collapsed": false
   },
   "outputs": [
    {
     "data": {
      "text/html": [
       "76887.3612203665"
      ],
      "text/latex": [
       "76887.3612203665"
      ],
      "text/markdown": [
       "76887.3612203665"
      ],
      "text/plain": [
       "[1] 76887.36"
      ]
     },
     "metadata": {},
     "output_type": "display_data"
    },
    {
     "data": {
      "text/html": [
       "7834.03778695246"
      ],
      "text/latex": [
       "7834.03778695246"
      ],
      "text/markdown": [
       "7834.03778695246"
      ],
      "text/plain": [
       "[1] 7834.038"
      ]
     },
     "metadata": {},
     "output_type": "display_data"
    }
   ],
   "source": [
    "# L+Q\n",
    "lqOptimal <- function(h,f,r,lambda_u,xi){\n",
    "    sigma <- 0.5\n",
    "    tmp <- (2*h+f+r)/(lambda_u+h+r)\n",
    "    return(qlnorm(tmp,meanlog=-1/2*sigma*sigma+log(xi),sdlog=sigma))\n",
    "}\n",
    "# the optimal order size L+Q for BZX\n",
    "lqOptimal(0.5,0.3,0.32,3.75,105000 )\n",
    "# the optimal order size L+Q for BYX\n",
    "lqOptimal(0.5,-0.03,-0.03,3.75,13000)\n"
   ]
  },
  {
   "cell_type": "markdown",
   "metadata": {},
   "source": [
    "(f) Compare the optimal limit order sizes from part (e) with the ratios of quote sizes and volumes on BZX and BYX.  Are your results from part (e) roughly consistent with observation.  You may assume that the quote sizes shown on the MSFT BATS slides from Lecture 1 are typical.\n",
    "\n",
    "#### <font color=blue> Solution (f)\n"
   ]
  },
  {
   "cell_type": "code",
   "execution_count": 78,
   "metadata": {
    "collapsed": false
   },
   "outputs": [
    {
     "data": {
      "text/html": [
       "0.00602618291304036"
      ],
      "text/latex": [
       "0.00602618291304036"
      ],
      "text/markdown": [
       "0.00602618291304036"
      ],
      "text/plain": [
       "[1] 0.006026183"
      ]
     },
     "metadata": {},
     "output_type": "display_data"
    },
    {
     "data": {
      "text/html": [
       "0.00321687184947613"
      ],
      "text/latex": [
       "0.00321687184947613"
      ],
      "text/markdown": [
       "0.00321687184947613"
      ],
      "text/plain": [
       "[1] 0.003216872"
      ]
     },
     "metadata": {},
     "output_type": "display_data"
    },
    {
     "data": {
      "text/html": [
       "0.00732260583051109"
      ],
      "text/latex": [
       "0.00732260583051109"
      ],
      "text/markdown": [
       "0.00732260583051109"
      ],
      "text/plain": [
       "[1] 0.007322606"
      ]
     },
     "metadata": {},
     "output_type": "display_data"
    },
    {
     "data": {
      "text/html": [
       "0.00561765453186521"
      ],
      "text/latex": [
       "0.00561765453186521"
      ],
      "text/markdown": [
       "0.00561765453186521"
      ],
      "text/plain": [
       "[1] 0.005617655"
      ]
     },
     "metadata": {},
     "output_type": "display_data"
    }
   ],
   "source": [
    "# BZX / volumes from (e)\n",
    "BZX_ratio_e <- lqOptimal(0.5,0.3,0.32,3.75,105000 ) / 10500000\n",
    "# BYX / volumes from (e)\n",
    "BYX_ratio_e <- lqOptimal(0.5,-0.03,-0.03,3.75,13000) /1300000\n",
    "\n",
    "# From lecture 1\n",
    "BZX_ratio_lecture1 <- sum(c(1700,1558,1300,1100,700,800,900,900,1258,1900))/ 2 /1078386\n",
    "BYX_ratio_lecture1 <- sum(c(100,100,100,200,200,100,400,400,200,200))/2/310861\n",
    "\n",
    "BYX_ratio_e\n",
    "BYX_ratio_lecture1\n",
    "\n",
    "BZX_ratio_e\n",
    "BZX_ratio_lecture1"
   ]
  },
  {
   "cell_type": "markdown",
   "metadata": {},
   "source": [
    "From above, I think \n",
    "- For BYX, they are similar are roughly similar and on the same order of magnitude \n",
    "- For BZX, they are similar are roughly similar and on the same order of magnitude "
   ]
  },
  {
   "cell_type": "markdown",
   "metadata": {},
   "source": [
    "## The Bouchaud-M&eacute;zard-Potters order book approximation"
   ]
  },
  {
   "cell_type": "markdown",
   "metadata": {},
   "source": [
    "### 4. (16 points)\n",
    "\n",
    "When $\\lambda(u)=\\alpha$,  a constant, the BMP order density becomes\n",
    "\n",
    "\\begin{eqnarray*}\n",
    "\\rho_{BMP}(\\Delta) &=& \\frac{\\alpha}{\\delta}\\,\\left\\{e^{-\\Delta/{\\tilde \\Delta}}\\,\\int_0^{\\Delta/{\\tilde\\Delta}}\\,\\sinh(u)\\,du + \\sinh(\\Delta/{\\tilde \\Delta})\\,\\int_{\\Delta/{\\tilde\\Delta}}^\\infty\\,e^{-u}\\,du\\right\\} \\\\\n",
    "&=&\\frac{\\alpha}{\\delta}\\,\\left\\{1 - e^{-\\Delta/{\\tilde \\Delta}}  \\right\\}\n",
    "\\end{eqnarray*}\n",
    "\n",
    "where the characteristic distance\n",
    "\n",
    "$$\n",
    "\\tilde \\Delta=\\sqrt{\\frac{\\sigma^2}{2\\,\\delta}}.\n",
    "$$\n",
    "\n",
    "(a) Amend the SFGK zero intelligence code from Problem 3 of HW1 to count the number of limit orders generated in addition to computing the average book shape.\n",
    "\n",
    "#### <font color=blue> Solution (a)"
   ]
  },
  {
   "cell_type": "code",
   "execution_count": 64,
   "metadata": {
    "collapsed": false
   },
   "outputs": [],
   "source": [
    "# add \"return m\" to keep track the limit order\n",
    "\n",
    "generateEvent_new <- function()\n",
    "    {\n",
    "    nb <<- sum(book$buySize[book$Price>=(bestOffer()-L)]); # Number of cancelable buy orders\n",
    "    ns <<- sum(book$sellSize[book$Price<=(bestBid()+L)]); # Number of cancelable sell orders\n",
    "    eventRate <- nb*delta + ns*delta + mu + 2*L*alpha;\n",
    "    probEvent <- c(L*alpha,L*alpha,nb*delta,ns*delta,mu/2,mu/2)/eventRate;\n",
    "    m <- sample(1:6, 1, replace = TRUE, probEvent); #Choose event type\n",
    "    switch(m,\n",
    "           limitBuyOrder(),\n",
    "           limitSellOrder(),\n",
    "           cancelBuyOrder(),\n",
    "           cancelSellOrder(),\n",
    "           marketBuyOrder(),\n",
    "           marketSellOrder()\n",
    "          );\n",
    "    return (m)  # remember the bracket\n",
    "    }"
   ]
  },
  {
   "cell_type": "markdown",
   "metadata": {},
   "source": [
    "(b) With $\\alpha = 1$, $\\mu = 10$ and $\\delta = \\frac15$, simulate 100,000 events and plot the resulting average book shape in red (in a band $\\pm 20$ around the mid price).\n",
    "#### <font color=blue> Solution (b)"
   ]
  },
  {
   "cell_type": "code",
   "execution_count": 66,
   "metadata": {
    "collapsed": false
   },
   "outputs": [
    {
     "data": {
      "image/png": "[encoded data removed]",
      "text/plain": [
       "Plot with title “Book shapes”"
      ]
     },
     "metadata": {},
     "output_type": "display_data"
    }
   ],
   "source": [
    "logging <- F # Very important for speed!\n",
    "\n",
    "alpha <- 1\n",
    "mu <- 10\n",
    "delta <- 1/5 \n",
    "initializeBook5()\n",
    "num_of_limit_order <- 0\n",
    "num_of_total <- 0\n",
    "numEvents <- 100000 # Average over 100,000 events\n",
    "avgBookShapeTmp <- bookShape(20)/numEvents\n",
    "for(count in 2:numEvents){\n",
    "    m=generateEvent_cos()\n",
    "    if (m == 1 || m == 2) {num_of_limit_order <- num_of_limit_order+1}\n",
    "    num_of_total <- num_of_total+1\n",
    "    avgBookShapeTmp <- avgBookShapeTmp + bookShape(20)/numEvents\n",
    "}\n",
    "plot(-20:20,avgBookShapeTmp,main=\"Book shapes\",xlab=\"Relative price\",ylab=\"# Shares\", col=\"red\", type=\"b\",xlim=c(-20,20),ylim=c(0,9))"
   ]
  },
  {
   "cell_type": "markdown",
   "metadata": {},
   "source": [
    "(c) From your simulation, what is the probability $P_L$ of a limit order at a given level conditional on an event? (Recall that there are 60 limit order levels in the simulation).\n",
    "#### <font color=blue> Solution (c)"
   ]
  },
  {
   "cell_type": "code",
   "execution_count": 71,
   "metadata": {
    "collapsed": false
   },
   "outputs": [
    {
     "data": {
      "text/html": [
       "0.00832966666666667"
      ],
      "text/latex": [
       "0.00832966666666667"
      ],
      "text/markdown": [
       "0.00832966666666667"
      ],
      "text/plain": [
       "[1] 0.008329667"
      ]
     },
     "metadata": {},
     "output_type": "display_data"
    }
   ],
   "source": [
    "PL <- num_of_limit_order / numEvents / 60\n",
    "PL"
   ]
  },
  {
   "cell_type": "markdown",
   "metadata": {},
   "source": [
    "(d) In [Gatheral and Oomen]<sup id=\"cite_ref-GO\" class=\"reference\"><a href=\"#cite_note-GO\"><span>[</span>1<span>]</span></a></sup>, with these SFGK parameters, realized variance per event was estimated as\n",
    "\n",
    "$$\n",
    "\\sigma^2_{GO} = 0.083.\n",
    "$$\n",
    "\n",
    "Using your estimate $P_L$ of limit orders per level per event, convert this estimate to variance per limit order (recall that $\\alpha=1$).  Denote your result by $\\sigma^2_{GO}$.  Compute the characteristic distance $\\tilde \\Delta_{GO}$ with this estimate $\\sigma^2_{GO}$.\n",
    "\n",
    "#### <font color=blue> Solution (d)\n"
   ]
  },
  {
   "cell_type": "code",
   "execution_count": 79,
   "metadata": {
    "collapsed": false
   },
   "outputs": [
    {
     "data": {
      "text/html": [
       "9.96438432910481"
      ],
      "text/latex": [
       "9.96438432910481"
      ],
      "text/markdown": [
       "9.96438432910481"
      ],
      "text/plain": [
       "[1] 9.964384"
      ]
     },
     "metadata": {},
     "output_type": "display_data"
    },
    {
     "data": {
      "text/html": [
       "4.99108814015161"
      ],
      "text/latex": [
       "4.99108814015161"
      ],
      "text/markdown": [
       "4.99108814015161"
      ],
      "text/plain": [
       "[1] 4.991088"
      ]
     },
     "metadata": {},
     "output_type": "display_data"
    }
   ],
   "source": [
    "varGO <- 0.083\n",
    "#Probability that a limit orders arrives at best bid/ask\n",
    "bPL <- PL\n",
    "# dimension analysis\n",
    "varGO <- varGO/(bPL)\n",
    "# according to the above formula \n",
    "DisGO <- sqrt(varGO/(2*delta))\n",
    "\n",
    "varGO\n",
    "DisGO"
   ]
  },
  {
   "cell_type": "markdown",
   "metadata": {},
   "source": [
    "(e) In Lecture 1, using dimensional analysis, we estimated that variance $\\sigma^2_{DA}$ per unit time should be of the order of\n",
    "\n",
    "$$\n",
    "\\sigma^2_{DA} = \\frac{\\mu\\,\\delta}{\\alpha^2}.\n",
    "$$\n",
    "\n",
    "Compute the characteristic distance $\\tilde \\Delta_{DA}$ with this estimate $\\sigma^2_{DA}$.\n",
    "\n",
    "#### <font color=blue> Solution (e)\n"
   ]
  },
  {
   "cell_type": "code",
   "execution_count": 85,
   "metadata": {
    "collapsed": false
   },
   "outputs": [
    {
     "data": {
      "text/html": [
       "20"
      ],
      "text/latex": [
       "20"
      ],
      "text/markdown": [
       "20"
      ],
      "text/plain": [
       "[1] 20"
      ]
     },
     "metadata": {},
     "output_type": "display_data"
    },
    {
     "data": {
      "text/html": [
       "7.07106781186548"
      ],
      "text/latex": [
       "7.07106781186548"
      ],
      "text/markdown": [
       "7.07106781186548"
      ],
      "text/plain": [
       "[1] 7.071068"
      ]
     },
     "metadata": {},
     "output_type": "display_data"
    }
   ],
   "source": [
    "varDA <- (mu*mu*delta) / (alpha*alpha) #this is mu^2. typo in the problems\n",
    "DisDA <- sqrt(varDA/(2*delta))\n",
    "\n",
    "varDA\n",
    "DisDA"
   ]
  },
  {
   "cell_type": "markdown",
   "metadata": {},
   "source": [
    "(f)  Using your two estimates of $\\tilde \\Delta$ from parts (d) and (e),  write functions to compute the corresponding order book densities $\\rho_{GO}(\\Delta)$ and $\\rho_{DA}(\\Delta)$.\n",
    "\n",
    "#### <font color=blue> Solution (f)\n"
   ]
  },
  {
   "cell_type": "code",
   "execution_count": 83,
   "metadata": {
    "collapsed": true
   },
   "outputs": [],
   "source": [
    "# alhpa =1 delta = 1/5\n",
    "rho <- function(d,cDist) { alpha/delta*(1-exp(-abs(d)/cDist)) }"
   ]
  },
  {
   "cell_type": "markdown",
   "metadata": {},
   "source": [
    "(g)\n",
    "Superimpose plots of the asymptotic densities $\\rho_{DA}(\\Delta)$ (in blue) and $\\rho_{DA}(\\Delta)$ (in orange) on your plot of the average book shape.\n",
    "\n",
    "#### <font color=blue> Solution (g)\n"
   ]
  },
  {
   "cell_type": "code",
   "execution_count": 87,
   "metadata": {
    "collapsed": false
   },
   "outputs": [
    {
     "data": {
      "image/png": "[encoded data removed]",
      "text/plain": [
       "Plot with title “Zi vs BMP”"
      ]
     },
     "metadata": {},
     "output_type": "display_data"
    }
   ],
   "source": [
    "plot(-20:20,avgBookShapeTmp,main=\"Zi vs BMP\",xlab=\"Relative price\",ylab=\"# Shares\", col=\"red\", type=\"b\",xlim=c(-20,20),ylim=c(0,9))\n",
    "curve(rho(x,DisGO),from=-20,to=20,n=100,col=\"blue\",add=T)\n",
    "curve(rho(x,DisDA),from=-20,to=20,n=100,col=\"orange\",add=T)\n",
    "legend('bottomright', inset=0.03, legend=c('ZI Simulation', 'BMP(DisGo)','BMP(DisDA)'), lty=c(1, 1,1), col=c('red', 'blue','orange'), cex=0.7)"
   ]
  },
  {
   "cell_type": "markdown",
   "metadata": {},
   "source": [
    "### 5. (6 points)\n",
    "\n",
    "Another of Mike and Farmer's observations is that the distribution of marketable as well as unmarketable limit orders as a function of distance $\\Delta$ to the same-side best quote is well-described by a Student-$t$ distribution.  Assume $\\mu=1/2$ as above.\n",
    "\n",
    "(a) Derive an expression in terms of the Student-$t$ cumulative density function for the ratio of arrival rates of limit to market orders as a function of the spread $s$.  How does this ratio vary with $s$?\n",
    "\n",
    "(b) Relative to the zero-intelligence model, does this empirically observed strategic behavior make the spread revert faster or more slowly?"
   ]
  },
  {
   "cell_type": "markdown",
   "metadata": {
    "collapsed": true
   },
   "source": [
    "#### <font color=blue> Solution (a)\n",
    "Student-t distribution:\n",
    "\n",
    "$$f(x)=\\frac{\\Gamma(\\frac{\\nu+1}{2})}{\\sqrt{\\nu\\,\\pi}\\,\\Gamma(\\frac{\\nu}{2})}\\,\\frac{1}{\\left(1+\\frac{x^2}{\\nu}\\right)^{\\frac{\\nu+1}{2}}}\\sim \\frac{1}{s^{\\nu+1}}\\text{ as }$$\n",
    "\n",
    "We only consider buy orders. As discussed above, the probability of the order being marketable or unmarketable is $\\frac{1-F(-s)}{F(-s)} = \\frac{F(s)}{F(-s)}$. With s increasing, the ratio is increasing, which means market orders will be less as the spread increasing.\n",
    "\n",
    "#### <font color=blue> Solution (b)\n",
    "As discussed above, the number of limit order is increasing when spread widens while the number of limit order is decreasing when spread tightens. Thus the convergence is faster compared with ZI model."
   ]
  },
  {
   "cell_type": "markdown",
   "metadata": {},
   "source": [
    "### References\n",
    "\n",
    "<div class=\"reflist\" style=\"list-style-type: decimal;\">\n",
    "\n",
    "<ol>\n",
    "\n",
    "  <li id=\"cite_note-GO\"><span class=\"mw-cite-backlink\"><b><a href=\"#cite_ref-GO\">^</a></b></span> Jim Gatheral and Roel C. A Oomen, Zero-intelligence realized variance estimation, <span>*Finance and Stochastics*,</span> <span>**14**</span>(2) 249–283, 2010.</li>\n",
    "\n",
    "</ol>"
   ]
  }
 ],
 "metadata": {
  "kernelspec": {
   "display_name": "R",
   "language": "R",
   "name": "ir"
  },
  "language_info": {
   "codemirror_mode": "r",
   "file_extension": ".r",
   "mimetype": "text/x-r-source",
   "name": "R",
   "pygments_lexer": "r",
   "version": "3.3.1"
  }
 },
 "nbformat": 4,
 "nbformat_minor": 0
}
