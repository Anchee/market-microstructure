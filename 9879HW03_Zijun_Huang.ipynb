{
 "cells": [
  {
   "cell_type": "markdown",
   "metadata": {},
   "source": [
    "# MTH9879 Homework 3\n",
    "\n",
    "Assigned: February 14, 2017.\n",
    "Due: February 28, 2017 by 6pm. \n",
    "|\n",
    "Late homework **will not be accepted**.\n",
    "\n",
    "$$\n",
    "\\newcommand{\\supp}{\\mathrm{supp}}\n",
    "\\newcommand{\\E}{\\mathbb{E}}\n",
    "\\newcommand{\\EE}{\\mathbb{E}}\n",
    "\\newcommand{\\Eof}[1]{\\mathbb{E}\\left[ #1 \\right]}\n",
    "\\def\\Cov{{ \\mbox{Cov} }}\n",
    "\\def\\Var{{ \\mbox{Var} }}\n",
    "\\newcommand{\\1}{\\mathbf{1} }\n",
    "\\newcommand{\\PP}{\\mathbb{P} }\n",
    "%\\newcommand{\\Pr}{\\mathrm{Pr} }\n",
    "\\newcommand{\\QQ}{\\mathbb{Q} }\n",
    "\\newcommand{\\RR}{\\mathbb{R} }\n",
    "\\newcommand{\\DD}{\\mathbb{D} }\n",
    "\\newcommand{\\HH}{\\mathbb{H} }\n",
    "\\newcommand{\\spn}{\\mathrm{span} }\n",
    "\\newcommand{\\cov}{\\mathrm{cov} }\n",
    "\\newcommand{\\sgn}{\\mathrm{sgn} }\n",
    "\\newcommand{\\HS}{\\mathcal{L}_{\\mathrm{HS}} }\n",
    "%\\newcommand{\\HS}{\\mathrm{HS} }\n",
    "\\newcommand{\\trace}{\\mathrm{trace} }\n",
    "\\newcommand{\\LL}{\\mathcal{L} }\n",
    "%\\newcommand{\\LL}{\\mathrm{L} }\n",
    "\\newcommand{\\s}{\\mathcal{S} }\n",
    "\\newcommand{\\ee}{\\mathcal{E} }\n",
    "\\newcommand{\\ff}{\\mathcal{F} }\n",
    "\\newcommand{\\hh}{\\mathcal{H} }\n",
    "\\newcommand{\\bb}{\\mathcal{B} }\n",
    "\\newcommand{\\dd}{\\mathcal{D} }\n",
    "\\newcommand{\\g}{\\mathcal{G} }\n",
    "\\newcommand{\\p}{\\partial}\n",
    "\\newcommand{\\half}{\\frac{1}{2} }\n",
    "\\newcommand{\\T}{\\mathcal{T} }\n",
    "\\newcommand{\\bi}{\\begin{itemize}}\n",
    "\\newcommand{\\ei}{\\end{itemize}}\n",
    "\\newcommand{\\beq}{\\begin{equation}}\n",
    "\\newcommand{\\eeq}{\\end{equation}}\n",
    "\\newcommand{\\beas}{\\begin{eqnarray*}}\n",
    "\\newcommand{\\eeas}{\\end{eqnarray*}}\n",
    "\\newcommand{\\cO}{\\mathcal{O}}\n",
    "\\newcommand{\\cF}{\\mathcal{F}}\n",
    "\\newcommand{\\cL}{\\mathcal{L}}\n",
    "\\newcommand{\\BS}{\\text{BS}}\n",
    "$$"
   ]
  },
  {
   "cell_type": "markdown",
   "metadata": {},
   "source": [
    "<font color = \"red\">Homework is to be done by each student individually.  To receive full credit, you must email a completed copy of this iPython notebook to Victor Istratov (stavka@gmail.com), Yassine Ghalem (yassine.ghalem@gmail.com) and Jim Gatheral (jim.gatheral@gmail.com) by the due date and time.  All R-code must run correctly and solutions must be written up neatly in Markdown/LaTeX format.\n"
   ]
  },
  {
   "cell_type": "markdown",
   "metadata": {},
   "source": [
    "#### R version: 'R version 3.3.1 (2016-06-21)' (ubuntu)"
   ]
  },
  {
   "cell_type": "markdown",
   "metadata": {},
   "source": [
    "### 0. (0 points) \n",
    "Read Chapter 11 of Hasbrouck and Section 3.5 of Foucault, Pagano and R&ouml;ell. <br>\n",
    "Also, read the article on high-frequency trading by Menkveld available at http://papers.tinbergen.nl/11076.pdf."
   ]
  },
  {
   "cell_type": "markdown",
   "metadata": {},
   "source": [
    "## The Garman (1976) model"
   ]
  },
  {
   "cell_type": "markdown",
   "metadata": {},
   "source": [
    "### 1. (6 points) \n",
    "Suppose supply and demand functions satisfy\n",
    "\n",
    "$$\n",
    "P_A(\\lambda) = 101 − 18\\lambda + \\lambda^2; \\; P_B(\\lambda) = 61 + 2\\lambda + \\lambda^2,\n",
    "$$\n",
    "\n",
    "where $\\lambda$ is the market order arrival rate per minute and $P_B(\\cdot)$ and $P_A(\\cdot)$ denote supply and demand curves respectively. <br>\n",
    "Determine the dealer’s optimal bid $B$ and ask $A$ and the average profit per minute."
   ]
  },
  {
   "cell_type": "markdown",
   "metadata": {},
   "source": [
    "#### <font color=blue> Solution  </font>\n",
    "\n",
    "The Garman model assumes the dealer will find the optimal bid and offer to maximize P&L per unit time. So the question can be solved as follows:\n",
    "\n",
    "$$\n",
    "\\max \\Pi = \\lambda \\times (P_A (\\lambda) - P_B (\\lambda)) = (40-20\\lambda)\\lambda \n",
    "$$\n",
    "\n",
    "Obviously, when $\\lambda^* = 1$, $\\Pi$ can reach the maximum.\n",
    "\n",
    "$$\n",
    "P_A^*(\\lambda^*) = 84 \\\\ \n",
    "P_B^*(\\lambda^*) = 64 \\\\\n",
    "\\Pi^* = 20 \n",
    "$$\n"
   ]
  },
  {
   "cell_type": "markdown",
   "metadata": {},
   "source": [
    "## The Stoll (1978) model"
   ]
  },
  {
   "cell_type": "markdown",
   "metadata": {},
   "source": [
    "### 2. (4 points) \n",
    "In the Stoll (1978) model, assuming exponential utility with $S \\sim N(\\mu, \\sigma^2)$, and with current inventory $q$ shares, what are the dealer’s indifference bid and ask prices for $n$ shares?"
   ]
  },
  {
   "cell_type": "markdown",
   "metadata": {},
   "source": [
    "#### <font color=blue> Solution  </font>\n",
    "\n",
    "Suppose the dealer's current inventory is $q$ and there are n shares. He posts a bid at $B$.\n",
    "- If his bid is not hit, his terminal wealth will be $W=q\\ S$.\n",
    "- If his bid is hit, his terminal wealth will be $W=(q+n)\\ S-n\\ B$.\n",
    "\n",
    "For the dealer to be indifferent, we must have\n",
    "\n",
    "$$\n",
    "\\E[U\\left((q+n)S-n B\\right)]=\\E[U(q\\,S)]\n",
    "$$\n",
    "\n",
    "So\n",
    "$$ \n",
    "(q+n)\\E[S]-n\\ B-\\frac{\\alpha}{2}\\,\\Var[(q+n)\\,S]\\\\=q\\,\\E[S]-\\frac{\\alpha}{2}\\,\\Var[q\\,S]\n",
    "$$\n",
    "    \n",
    "Then\n",
    "$$ \n",
    "B = \\mu - \\frac {\\alpha}{2}(n + 2q)\\sigma^2\n",
    "$$\n",
    "\n",
    "Similarly\n",
    "$$\n",
    "A = \\mu + \\frac {\\alpha}{2}(n - 2q)\\sigma^2\n",
    "$$"
   ]
  },
  {
   "cell_type": "markdown",
   "metadata": {},
   "source": [
    "### 3. (10 points)\n",
    "As mentioned in Lecture 3, in real markets, bid and ask prices $B$ and $A$ are typically given and the dealer must decide how much size to quote at these fixed prices.  Suppose there are currently $Q_A$ offered and $Q_B$ shares bid.  According to Lecture 1,\n",
    "\n",
    "$$\n",
    "\\Eof{S} \\approx M + \\frac s 2 \\,\\frac 4\\pi \\,\\arctan I.\n",
    "$$\n",
    "\n",
    "where $M$ is the mid-price, $s=A-B$, and the book imbalance is given by\n",
    "\n",
    "$$\n",
    "I = \\frac{Q_B-Q_A}{Q_B + Q_A}.\n",
    "$$\n",
    "\n",
    "Assume that $S$ is normally distributed with variance $\\sigma^2$, that the dealer has exponential utility, and that his current inventory is $q$.\n",
    "\n",
    "(a) Use your answer to Problem 2 to show that the indifference size $n_B$ the dealer should quote at the bid $B$ is given by\n",
    "\n",
    "$$\n",
    "n_B = \\frac{s}{\\alpha\\,\\sigma^2}\\,\\left(  1+\\frac 4 \\pi \\,\\arctan I \\right) - 2\\,q.\n",
    "$$\n",
    "\n",
    "(b) Derive a similar formula for the indifference offered quantity $n_A$.\n",
    "\n",
    "(c) Give your intuition for the sensitivities of $n_B$ and $n_A$ to each of the various inputs.\n"
   ]
  },
  {
   "cell_type": "markdown",
   "metadata": {},
   "source": [
    "#### <font color=blue> Solution  </font>\n",
    "\n",
    "a) From Problem 2, we know that $\\  B = \\mu - \\frac {\\alpha}{2}(n + 2q)\\ \\sigma^2 $, and then $ n_B = \\frac {2\\times(\\mu - B) }{\\alpha\\sigma^2} - 2q $.\n",
    "According to Lecture 1,\n",
    "$$\n",
    "\\mu = \\Eof{S} \\approx M + \\frac s 2 \\,\\frac 4\\pi \\,\\arctan I.\n",
    "$$\n",
    "\n",
    "Then\n",
    "$$\n",
    "n_B = \\frac{s}{\\alpha\\,\\sigma^2}(1+\\frac 4 \\pi \\,\\arctan I) - 2\\,q.\n",
    "$$\n",
    "\n",
    "b) Similarly, we can derive \n",
    "$$\n",
    "n_A = \\frac s{\\alpha\\, \\sigma^2}(1 - \\frac 4 \\pi \\arctan I) + 2q\n",
    "$$\n",
    "\n",
    "c)\n",
    "\n",
    "$s$:         \n",
    "$n_B$ and $n_A$ are increasing functions of spread.(Note that $1-\\frac{4}{\\pi} arctan I \\geq 0$). When spread is large, dealers should buy more and sell more to max their profit.\n",
    "\n",
    "$\\alpha$:               \n",
    "$n_B$ and $n_A$ are decreasing functions of risk aversion. Dealers should buy less and sell less when they are more risk averse.\n",
    "\n",
    "$\\sigma$:       \n",
    "$n_B$ and $n_A$ are decreasing functions of variance. Dealers should buy less and sell less when the market becomes volatile.\n",
    "\n",
    "$I$:            \n",
    "$n_B$ is an increasing function of imbalance I while $n_A$ is a decreasing function of imbalance I. When the order book becomes imbalanced, dealers should buy less and sell more.\n",
    "\n",
    "$q$:              \n",
    "$n_B$ is a decreasing function of current inventory q while $n_A$ is an increasing function of current inventory q. When q is high, we sell less and buy more. By doing this dealers can make the price becomes less expensive by using imbalance of the order book.\n",
    "\n"
   ]
  },
  {
   "cell_type": "markdown",
   "metadata": {},
   "source": [
    "## Avellaneda and Stoikov (2008)"
   ]
  },
  {
   "cell_type": "markdown",
   "metadata": {},
   "source": [
    "### 4. (6 points) \n",
    "According to the lecture slides, in the Avellaneda and Stoikov model, the optimal bid and ask prices are given in terms of market order arrival rates by\n",
    "\n",
    "$$\n",
    "B=r_B-\\frac{1}{\\alpha}\\,\\log\\left(1+\\alpha\\,\\frac{{\\lambda_B}(B)}{\\lambda_B'(B)}\\right).\n",
    "$$\n",
    "\n",
    "Similarly, the optimal ask price is given by\n",
    "\n",
    "$$\n",
    "A=r_A-\\frac{1}{\\alpha}\\,\\log\\left(1+\\alpha\\,\\frac{{\\lambda_A}(A)}{\\lambda_A'(A)}\\right).\n",
    "$$\n",
    "\n",
    "where $A= S+\\delta_A$ and $B= S-\\delta_B$.\n",
    "\n",
    "Suppose that arrival rates of orders (symmetric between market buys and sells) are given by\n",
    "\n",
    "$$\n",
    "\\lambda(\\delta) = e^{-k \\delta \\pm \\beta\\,q}\n",
    "$$\n",
    "\n",
    "for some constant $\\beta>0$ that reflects adverse selection (i.e., the longer you are, the more market sell orders arrive).\n",
    "\n",
    "(a) Write down expressions for $A$ and $B$ in terms of $r_A$, $r_B$, $k$, $\\beta$ and $q$.\n",
    "\n",
    "(b) How does the optimal spread depend on $q$?\n",
    "\n",
    "(c) Conjecture how the reservation prices $r_A$ and $r_B$ should depend on $q$ if there is adverse selection.\n"
   ]
  },
  {
   "cell_type": "markdown",
   "metadata": {},
   "source": [
    "#### <font color=blue> Solution  </font>\n",
    "\n",
    "a)    \n",
    "From lecture, we know that\n",
    "$$\n",
    "A = r_A+\\frac{1}{\\alpha}\\,\\log\\left(1-\\alpha\\,\\frac{{\\lambda_A}(A-S)}{\\lambda_A'(A-S)}\\right).\n",
    "$$\n",
    "$$\n",
    "B = r_B - \\frac{1}{\\alpha}\\,\\log\\left(1 - \\alpha\\,\\frac{{\\lambda_B}(S-B)}{\\lambda_B'(S-B)}\\right).\n",
    "$$\n",
    "\n",
    "From problem,\n",
    "$$\n",
    "\\lambda(\\delta) = e^{-k \\delta \\pm \\beta\\,q}\n",
    "\\ \\Longrightarrow\n",
    "\\ \\lambda^{'}(\\delta) = -k\\, e^{-k \\delta \\pm \\beta\\,q} \n",
    "\\ \\Longrightarrow \n",
    "\\ \\lambda / \\lambda^{'} = - 1/ k\n",
    "$$\n",
    "\n",
    "then\n",
    "$$\n",
    "A = r_A +\\frac1{\\alpha} \\,\\log (1 + \\frac{\\alpha}{k}) \\\\\n",
    "B = r_B - \\frac1{\\alpha} \\,\\log (1 + \\frac{\\alpha}{k}) \n",
    "$$\n",
    "\n"
   ]
  },
  {
   "cell_type": "markdown",
   "metadata": {},
   "source": [
    "b)\n",
    "$$\n",
    "\\s = A - B = r_A - r_B + 2 *  \\frac1{\\alpha} \\,\\log (1 + \\frac{\\alpha}{k})\n",
    "$$\n",
    "\n",
    "so the optimal spread does not depend on q."
   ]
  },
  {
   "cell_type": "markdown",
   "metadata": {},
   "source": [
    "c)            \n",
    "From lecture,\n",
    "\n",
    "$$\n",
    "r_B(t,x,S,q) = S - \\frac{\\alpha}{2}\\,(2\\,q+1)\\,\\sigma^2\\,(T-t)\n",
    "$$\n",
    "\n",
    "$$\n",
    "r_A(t,x,S,q) = S + \\frac{\\alpha}{2}\\,(-2\\,q+1)\\,\\sigma^2\\,(T-t)\n",
    "$$\n",
    "\n",
    "As $q$ increases, $r_A$ and $r_B$ will decrease. \n",
    "However from the perspective of adverse selection, we know that:\n",
    "- when $q$ increase, the number of shares at $B$ will increase which leads to the decrease of reserved price $r_B$.\n",
    "- when $q$ decrease, the number of shares at $A$ will increase which leads to the increase of reserved price $r_A$.\n"
   ]
  }
 ],
 "metadata": {
  "kernelspec": {
   "display_name": "R",
   "language": "R",
   "name": "ir"
  },
  "language_info": {
   "codemirror_mode": "r",
   "file_extension": ".r",
   "mimetype": "text/x-r-source",
   "name": "R",
   "pygments_lexer": "r",
   "version": "3.3.1"
  }
 },
 "nbformat": 4,
 "nbformat_minor": 0
}
