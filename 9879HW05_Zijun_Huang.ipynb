{
 "cells": [
  {
   "cell_type": "markdown",
   "metadata": {},
   "source": [
    "# MTH9879 Homework 5\n",
    "\n",
    "Assigned: March 7, 2017.\n",
    "Due: March 21, 2017 by 6pm.\n",
    "\n",
    "Late homework **will not be accepted**.\n",
    "\n",
    "$$\n",
    "\\newcommand{\\supp}{\\mathrm{supp}}\n",
    "\\newcommand{\\E}{\\mathbb{E}}\n",
    "\\newcommand{\\EE}{\\mathbb{E}}\n",
    "\\newcommand{\\Eof}[1]{\\mathbb{E}\\left[ #1 \\right]}\n",
    "\\def\\Cov{{ \\mbox{Cov} }}\n",
    "\\def\\Var{{ \\mbox{Var} }}\n",
    "\\newcommand{\\1}{\\mathbf{1} }\n",
    "\\newcommand{\\PP}{\\mathbb{P} }\n",
    "%\\newcommand{\\Pr}{\\mathrm{Pr} }\n",
    "\\newcommand{\\QQ}{\\mathbb{Q} }\n",
    "\\newcommand{\\RR}{\\mathbb{R} }\n",
    "\\newcommand{\\DD}{\\mathbb{D} }\n",
    "\\newcommand{\\HH}{\\mathbb{H} }\n",
    "\\newcommand{\\spn}{\\mathrm{span} }\n",
    "\\newcommand{\\cov}{\\mathrm{cov} }\n",
    "\\newcommand{\\sgn}{\\mathrm{sgn} }\n",
    "\\newcommand{\\HS}{\\mathcal{L}_{\\mathrm{HS}} }\n",
    "%\\newcommand{\\HS}{\\mathrm{HS} }\n",
    "\\newcommand{\\trace}{\\mathrm{trace} }\n",
    "\\newcommand{\\LL}{\\mathcal{L} }\n",
    "%\\newcommand{\\LL}{\\mathrm{L} }\n",
    "\\newcommand{\\s}{\\mathcal{S} }\n",
    "\\newcommand{\\ee}{\\mathcal{E} }\n",
    "\\newcommand{\\ff}{\\mathcal{F} }\n",
    "\\newcommand{\\hh}{\\mathcal{H} }\n",
    "\\newcommand{\\bb}{\\mathcal{B} }\n",
    "\\newcommand{\\dd}{\\mathcal{D} }\n",
    "\\newcommand{\\g}{\\mathcal{G} }\n",
    "\\newcommand{\\p}{\\partial}\n",
    "\\newcommand{\\half}{\\frac{1}{2} }\n",
    "\\newcommand{\\T}{\\mathcal{T} }\n",
    "\\newcommand{\\bi}{\\begin{itemize}}\n",
    "\\newcommand{\\ei}{\\end{itemize}}\n",
    "\\newcommand{\\beq}{\\begin{equation}}\n",
    "\\newcommand{\\eeq}{\\end{equation}}\n",
    "\\newcommand{\\beas}{\\begin{eqnarray*}}\n",
    "\\newcommand{\\eeas}{\\end{eqnarray*}}\n",
    "\\newcommand{\\cO}{\\mathcal{O}}\n",
    "\\newcommand{\\cF}{\\mathcal{F}}\n",
    "\\newcommand{\\cI}{\\mathcal{I}}\n",
    "\\newcommand{\\cL}{\\mathcal{L}}\n",
    "\\newcommand{\\cM}{\\mathcal{M}}\n",
    "\\newcommand{\\BS}{\\text{BS}}\n",
    "$$"
   ]
  },
  {
   "cell_type": "markdown",
   "metadata": {},
   "source": [
    "<font color = \"red\">Homework is to be done by each student individually.  To receive full credit, you must email a completed copy of this iPython notebook to Victor Istratov (stavka@gmail.com), Yassine Ghalem (yassine.ghalem@gmail.com) and Jim Gatheral (jim.gatheral@gmail.com) by the due date and time.  All R-code must run correctly and solutions must be written up neatly in Markdown/LaTeX format.\n"
   ]
  },
  {
   "cell_type": "markdown",
   "metadata": {},
   "source": [
    "#### R version: 'R version 3.3.1 (2016-06-21)' (ubuntu)"
   ]
  },
  {
   "cell_type": "markdown",
   "metadata": {},
   "source": [
    "### 0. (0 points) \n",
    "Read Chapter 7 of Hasbrouck, Chapters 4 and 5 of Foucault, Pagano and R&ouml;ell, and Section 3 of Bouchaud, Farmer and Lillo."
   ]
  },
  {
   "cell_type": "markdown",
   "metadata": {},
   "source": [
    "## The Kyle (1985) model"
   ]
  },
  {
   "cell_type": "markdown",
   "metadata": {},
   "source": [
    "### 1. (14 points)\n",
    "\n",
    "Suppose that the monopolistic trader in the Kyle (1985) model is not told the true value $\\tilde S$ but is instead given a signal $x=\\tilde S+\\epsilon$ with $\\epsilon \\sim N(0,\\sigma_\\epsilon^2)$, where $\\tilde S$ and $\\epsilon$ are assumed independent.\n",
    "\n",
    "(a) Compute the conditional expectation $\\mathbb{E}[\\tilde S|x]$.\n",
    "\n",
    "(b) If $\\mathcal I$ assumes that the market maker $\\mathcal M$ generates a price function of the form $p=\\mu +\\lambda\\,y$, show that the informed trader's optimal (profit maximizing) demand is given by\n",
    "\n",
    "$$\n",
    "y_i=\\frac{\\phi}{2\\,\\lambda}\\,\\left(x-\\mu\\right)\n",
    "$$\n",
    "\n",
    "where\n",
    "\n",
    "$$\n",
    "\\phi = \\frac{\\sigma^2}{\\sigma^2+\\sigma_\\epsilon^2}.\n",
    "$$\n",
    "\n",
    "(c) Following the derivation from the lecture slides, use the result of (b) to deduce equation (11) in the lecture slides:\n",
    "\n",
    "$$\n",
    "\\lambda=\\frac{\\sigma}{2\\,\\sigma_u}\\,\\sqrt{\\phi}.\n",
    "$$\n"
   ]
  },
  {
   "cell_type": "markdown",
   "metadata": {},
   "source": [
    "#### <font color=blue> Solution (a) </font>\n",
    "\n",
    "From Kyle model, we know that $\\tilde S \\sim N(\\mu,\\sigma^2).$ Then we can get the distribution of $x$:\n",
    "\n",
    "$$\n",
    "x|\\tilde S = \\tilde S + \\epsilon \\sim N(\\tilde S,\\sigma_{\\epsilon}^{2})\n",
    "$$\n",
    "So according to the theorem of Kalman filter: \n",
    "\n",
    "$$\n",
    "\\tilde S|x \\sim N(\\beta\\,x+(1-\\beta)\\,\\mu,(1-\\beta)\\,\\sigma^2)\n",
    "$$\n",
    "where $$\\beta=\\frac{\\tau_x}{\\tau_ {\\tilde S}+\\tau_x};\\  \\tau_i={1}/{\\sigma_i^2}$$\n",
    "\n",
    "Then,\n",
    "\n",
    "$$\n",
    "\\mathbb{E}[\\tilde S|x] = \\beta\\,x+(1-\\beta)\\,\\mu = \\phi\\,x+(1-\\phi)\\,\\mu\n",
    "$$\n",
    "where \n",
    "$$\n",
    "\\phi = \\frac{\\sigma^2}{\\sigma^2+\\sigma_\\epsilon^2}.\n",
    "$$\n"
   ]
  },
  {
   "cell_type": "markdown",
   "metadata": {},
   "source": [
    "#### <font color=blue> Solution (b) </font>\n",
    "Similarly, $\\mathcal{I} $’s expected profit is\n",
    "$$\n",
    "\\mathbb{E} [y_i\\,(\\tilde S-p(y))|\\,x] = \\mathbb{E} [y_i\\,(\\tilde S- \\mu - \\lambda(y_i + y_u))|\\,x]\\\\ = y_i \\mathbb{E}[\\tilde S|x] -y_i\\, \\mu - \\lambda \\, y_i^2\n",
    "$$\n",
    "\n",
    "since the uninformed demand $y_u$ is independent of $\\tilde S$ and has mean 0.       \n",
    "Then according to the answer in problem (1) we know\n",
    "\n",
    "$$\n",
    "y_i=\\frac{\\phi}{2\\,\\lambda}\\,\\left(x-\\mu\\right)\n",
    "$$\n",
    "\n",
    "where\n",
    "$$\n",
    "\\phi = \\frac{\\sigma^2}{\\sigma^2+\\sigma_\\epsilon^2}.\n",
    "$$"
   ]
  },
  {
   "cell_type": "markdown",
   "metadata": {},
   "source": [
    "#### <font color=blue> Solution (c) </font>\n",
    "Suppose $\\mathcal{M} $ conjectures that $\\mathcal{I} $’s demand function is of the form\n",
    "$$y_i=a+b\\,x.$$\n",
    "\n",
    "To compute $\\mathbb{E} [\\tilde S|y]$, we regress $\\tilde S$ against $y$:\n",
    "$$\\mathbb{E} [\\tilde S|y]=\\mathbb{E} [\\tilde S]+\\frac{\\mbox{Cov}[\\tilde S,y]}{\\mbox{Var}[y]}\\left(y-\\mathbb{E} [y]\\right)$$\n",
    "The variance and covariance are given by \n",
    "$$\n",
    "\\mbox{Var}[y]=\\sigma_u^2+b^2\\,(\\sigma^2+\\sigma_{\\epsilon}^2)\n",
    "$$\n",
    "\n",
    "$$\n",
    "\\mbox{Cov}[\\tilde S,y]=b\\,\\sigma^2.\n",
    "$$\n",
    "\n",
    "Then\n",
    "\n",
    "$$\n",
    "\\lambda = \\frac{b \\sigma^2}{\\sigma_u^2 + b^2 (\\sigma^2 + \\sigma_{\\epsilon}^2)}  ...(1)\n",
    "$$\n",
    "\n",
    "From problem(2) we know that\n",
    "$$\n",
    "y_i=\\frac{\\phi}{2\\,\\lambda}\\,\\left(x-\\mu\\right)\n",
    "$$\n",
    "\n",
    "whhic means\n",
    "$$\n",
    "b = \\frac{\\phi}{2\\,\\lambda}\n",
    "$$\n",
    "\n",
    "Substitute $b$ into the formula (1), we can get \n",
    "\n",
    "$$\n",
    "\\lambda=\\frac{\\sigma}{2\\,\\sigma_u}\\,\\sqrt{\\phi}.\n",
    "$$"
   ]
  },
  {
   "cell_type": "markdown",
   "metadata": {},
   "source": [
    "### 2. (2 points) \n",
    "In the Kyle model, if the characteristic uninformed demand $\\sigma_u$ increases by some factor $\\theta$, what happens to the optimal informed trader demand $y_i$?"
   ]
  },
  {
   "cell_type": "markdown",
   "metadata": {},
   "source": [
    "#### <font color=blue> Solution </font>\n",
    "From the note we know that\n",
    "$$\\lambda=\\frac{1}{2}\\,\\frac{\\sigma}{\\sigma_u} \\,\\,\\,\\,\\,\\, y_i = \\frac{\\tilde S - \\mu}{2 \\lambda}$$\n",
    "So\n",
    "$$\n",
    "y_i = \\frac{(\\tilde S - \\mu)\\sigma_u}{\\sigma}\n",
    "$$\n",
    "\n",
    "Obviously, when $\\sigma_u$ increases by some factor $\\theta$, $y_i$ should increase by $\\theta$ as well. Intuitively speaking, the greater the demand of uninformed traders, the more profit informed traders can obtain and thus the demand increases."
   ]
  },
  {
   "cell_type": "markdown",
   "metadata": {},
   "source": [
    "### 3. (6 points) \n",
    "\n",
    "As in Exercise 7.3 of Hasbrouck (but with different notation), suppose that a broker $\\mathcal P$ spots an insider and decides to submit his own piggyback orders.  Specifically, if $\\mathcal I$ submits demand $y_i$, $\\mathcal P$ submits demand $\\gamma\\,y_i$ with $\\gamma>0$.\n",
    "\n",
    "(a) Assuming that $\\mathcal I$ can detect how much piggyback order flow there is, deduce that the equilibrium Kyle lambda is unchanged from the original case where there are no piggyback orders.\n",
    "\n",
    "(b) Derive expressions for $\\mathcal I$'s optimal demand $y_i$ and his expected P&L.\n",
    "\n",
    "(c) Explain to a non-expert what happens to your trade capacity and your profitability if someone is piggybacking on your trades.\n",
    "\n"
   ]
  },
  {
   "cell_type": "markdown",
   "metadata": {},
   "source": [
    "#### <font color=blue> Solution (a) </font>\n",
    "Because $\\mathcal P$ knows that there is an insider so he becomes the insider. $\\mathcal{I} $’s expected profit is then\n",
    "$$\n",
    "E(y_i(\\tilde S - \\mu - \\lambda((1 + \\gamma)y_i + y_u)) | \\tilde S) \\\\\n",
    "= y_i(\\tilde S - \\mu - \\lambda(1 + \\gamma)y_i) \\\\ \n",
    "= -\\lambda(1 + \\gamma)y_i^2 + (\\tilde S - \\mu)y_i\n",
    "$$\n",
    "So the optimal demand is $$y_i = \\frac{\\tilde S - \\mu}{2\\lambda (1 + \\gamma)}\n",
    "$$\n",
    "\n",
    "Let $$y_i = \\frac{\\tilde S - \\mu}{2\\lambda (1 + \\gamma)} = a + b\\tilde S$$.\n",
    "\n",
    "Thus\n",
    "$$\n",
    "a = \\frac{-\\mu}{2\\lambda(1 + \\gamma)}\\,\\,    b = \\frac{1}{2\\lambda(1 + \\gamma)}\n",
    "$$\n",
    "\n",
    "From the note\n",
    "$$\n",
    "\\lambda = \\frac{Cov(\\tilde S, y)}{Var(y)} = \\frac{(1 + \\gamma)b\\sigma^2}{(1 + \\gamma)^2 b^2 \\sigma^2 + \\sigma_u^2}\n",
    "$$\n",
    "\n",
    "After plugging $b = \\frac{1}{2\\lambda(1 + \\gamma)}$ and $\\lambda$ does not change."
   ]
  },
  {
   "cell_type": "markdown",
   "metadata": {},
   "source": [
    "#### <font color=blue> Solution (b) </font>\n",
    "From problem (a)\n",
    "$$\n",
    "E(y_i(\\tilde S - \\mu - \\lambda((1 + \\gamma)y_i + y_u)) | \\tilde S)\n",
    "= -\\lambda(1 + \\gamma)y_i^2 + (\\tilde S - \\mu)y_i\n",
    "= \\frac{\\sigma_u (\\tilde S - \\mu)^2 }{2 \\sigma (1 + \\gamma)}\n",
    "$$\n",
    "\n"
   ]
  },
  {
   "cell_type": "markdown",
   "metadata": {},
   "source": [
    "#### <font color=blue> Solution (c) </font>\n",
    "\n",
    "The piggybacking decrease the liquidity, thus making it harder to trade. Meanwhile, because of decrease of liqu\n",
    "idity, the market maker will probably demand a higher price resulting in a decrease on profitability."
   ]
  }
 ],
 "metadata": {
  "kernelspec": {
   "display_name": "R",
   "language": "R",
   "name": "ir"
  },
  "language_info": {
   "codemirror_mode": "r",
   "file_extension": ".r",
   "mimetype": "text/x-r-source",
   "name": "R",
   "pygments_lexer": "r",
   "version": "3.3.2"
  }
 },
 "nbformat": 4,
 "nbformat_minor": 0
}
