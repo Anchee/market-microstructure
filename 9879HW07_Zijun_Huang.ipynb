{
 "cells": [
  {
   "cell_type": "markdown",
   "metadata": {},
   "source": [
    "# MTH9879 Homework 7\n",
    "\n",
    "Assigned: March 29, 2017.\n",
    "Due: April 25, 2017 by 6pm. \n",
    "\n",
    "Late homework **will not be accepted**.\n",
    "\n",
    "$$\n",
    "\\newcommand{\\supp}{\\mathrm{supp}}\n",
    "\\newcommand{\\E}{\\mathbb{E}}\n",
    "\\newcommand{\\Eof}[1]{\\mathbb{E}\\left[ #1 \\right]}\n",
    "\\def\\Cov{{ \\mbox{Cov} }}\n",
    "\\def\\Var{{ \\mbox{Var} }}\n",
    "\\newcommand{\\1}{\\mathbf{1} }\n",
    "\\newcommand{\\PP}{\\mathbb{P} }\n",
    "%\\newcommand{\\Pr}{\\mathrm{Pr} }\n",
    "\\newcommand{\\QQ}{\\mathbb{Q} }\n",
    "\\newcommand{\\RR}{\\mathbb{R} }\n",
    "\\newcommand{\\DD}{\\mathbb{D} }\n",
    "\\newcommand{\\HH}{\\mathbb{H} }\n",
    "\\newcommand{\\spn}{\\mathrm{span} }\n",
    "\\newcommand{\\cov}{\\mathrm{cov} }\n",
    "\\newcommand{\\sgn}{\\mathrm{sgn} }\n",
    "\\newcommand{\\HS}{\\mathcal{L}_{\\mathrm{HS}} }\n",
    "%\\newcommand{\\HS}{\\mathrm{HS} }\n",
    "\\newcommand{\\trace}{\\mathrm{trace} }\n",
    "\\newcommand{\\LL}{\\mathcal{L} }\n",
    "%\\newcommand{\\LL}{\\mathrm{L} }\n",
    "\\newcommand{\\s}{\\mathcal{S} }\n",
    "\\newcommand{\\ee}{\\mathcal{E} }\n",
    "\\newcommand{\\ff}{\\mathcal{F} }\n",
    "\\newcommand{\\hh}{\\mathcal{H} }\n",
    "\\newcommand{\\bb}{\\mathcal{B} }\n",
    "\\newcommand{\\dd}{\\mathcal{D} }\n",
    "\\newcommand{\\g}{\\mathcal{G} }\n",
    "\\newcommand{\\p}{\\partial}\n",
    "\\newcommand{\\half}{\\frac{1}{2} }\n",
    "\\newcommand{\\T}{\\mathcal{T} }\n",
    "\\newcommand{\\bi}{\\begin{itemize}}\n",
    "\\newcommand{\\ei}{\\end{itemize}}\n",
    "\\newcommand{\\beq}{\\begin{equation}}\n",
    "\\newcommand{\\eeq}{\\end{equation}}\n",
    "\\newcommand{\\beas}{\\begin{eqnarray*}}\n",
    "\\newcommand{\\eeas}{\\end{eqnarray*}}\n",
    "\\newcommand{\\cO}{\\mathcal{O}}\n",
    "\\newcommand{\\cF}{\\mathcal{F}}\n",
    "\\newcommand{\\cL}{\\mathcal{L}}\n",
    "\\newcommand{\\BS}{\\text{BS}}\n",
    "$$"
   ]
  },
  {
   "cell_type": "markdown",
   "metadata": {},
   "source": [
    "<font color = \"red\">Homework is to be done by each student individually.  To receive full credit, you must email a completed copy of this iPython notebook to Victor Istratov (stavka@gmail.com), Yassine Ghalem (yassine.ghalem@gmail.com) and Jim Gatheral (jim.gatheral@gmail.com) by the due date and time.  All R-code must run correctly and solutions must be written up neatly in Markdown/LaTeX format."
   ]
  },
  {
   "cell_type": "markdown",
   "metadata": {},
   "source": [
    "### R version 3.3.2 (2016-10-31) (ubuntu)"
   ]
  },
  {
   "cell_type": "markdown",
   "metadata": {},
   "source": [
    "### 0. (0 points) \n",
    "Read Sections 4, 5 and 6 of Bouchaud, Farmer and Lillo."
   ]
  },
  {
   "cell_type": "markdown",
   "metadata": {},
   "source": [
    "## Long memory"
   ]
  },
  {
   "cell_type": "markdown",
   "metadata": {},
   "source": [
    "### 1. (6 points)\n",
    "\n",
    "Consider the long memory process\n",
    "\n",
    "$$\n",
    "X_T=\\sum_{i=1}^T\\,\\epsilon_i\n",
    "$$\n",
    "\n",
    "with autocovariance function $\\gamma(\\tau)=\\E[\\epsilon_i\\,\\epsilon_{i-\\tau}] \\sim \\tau^{-\\alpha}$.  Show that as $\\tau \\to \\infty$,\n",
    "\n",
    "$$\n",
    "\\Var[X_{t+\\tau}-X_t] \\sim \\tau ^{2\\,H}\n",
    "$$\n",
    "\n",
    "where the Hurst exponent $H$ is given by\n",
    "\n",
    "$$\n",
    "H=1-\\frac{\\alpha}{2}.\n",
    "$$"
   ]
  },
  {
   "cell_type": "markdown",
   "metadata": {},
   "source": [
    "#### <font color=blue> Solution </font>\n",
    "\n",
    "From above,  \n",
    "\n",
    "$$\\gamma(\\tau)=\\E[\\epsilon_i\\,\\epsilon_{i-\\tau}] \\sim \\tau^{-\\alpha}$$\n",
    "where $\\alpha < 1$\n",
    "we know\n",
    "\n",
    "$$\\Var[\\epsilon_i] = 0$$\n",
    "Thus,\n",
    "\n",
    "$$\n",
    "\\Var[X_{t+\\tau}-X_t] = \\Var[\\sum_{i=t+1}^{t + \\tau}\\,\\epsilon_i] \n",
    "= \\sum_{i,j = t+1}^{t + \\tau} \\Cov(\\epsilon_i ,\\, \\epsilon_j) \n",
    "= \\sum_{i,j = t+1}^{t + \\tau} \\E(\\epsilon_i \\epsilon_j) \\\\\n",
    "\\sim 2 \\sum_{i = 1}^{\\tau - 1} (\\tau - i)i^{- \\alpha} \n",
    "\\approx 2\\int_{1}^{\\tau - 1}(\\tau - x)x^{- \\alpha}dx  \n",
    "\\sim \\tau ^{2\\,H}\n",
    "$$\n"
   ]
  },
  {
   "cell_type": "markdown",
   "metadata": {},
   "source": [
    "## MSFT data from Alejandro Ca&ntilde;ete"
   ]
  },
  {
   "cell_type": "code",
   "execution_count": 1,
   "metadata": {},
   "outputs": [
    {
     "name": "stderr",
     "output_type": "stream",
     "text": [
      "Loading required package: xts\n",
      "Loading required package: zoo\n",
      "\n",
      "Attaching package: ‘zoo’\n",
      "\n",
      "The following objects are masked from ‘package:base’:\n",
      "\n",
      "    as.Date, as.Date.numeric\n",
      "\n"
     ]
    }
   ],
   "source": [
    "library(highfrequency)\n",
    "download.file(url=\"http://mfe.baruch.cuny.edu/wp-content/uploads/2015/03/MSFT130311.rData_.zip\", destfile=\"MSFT130311.zip\")\n",
    "unzip(zipfile=\"MSFT130311.zip\")\n",
    "load(\"MSFT130311.rData\")"
   ]
  },
  {
   "cell_type": "markdown",
   "metadata": {},
   "source": [
    "### 2. (10 points)\n",
    "\n",
    "(a) Generate the series *tradeSign* of trade signs from the *msft130311.inet* data frame.\n",
    "#### <font color=blue> Solution (a) </font>"
   ]
  },
  {
   "cell_type": "code",
   "execution_count": 2,
   "metadata": {
    "collapsed": true
   },
   "outputs": [],
   "source": [
    "tradeSign <- sign(msft130311.inet$signed.shares)"
   ]
  },
  {
   "cell_type": "markdown",
   "metadata": {},
   "source": [
    "(b) Fit an AR(1) model to the *tradeSign*  data to give the forecast:\n",
    "    $$\n",
    "    \\hat \\epsilon^{(1)}_t=\\phi_1\\,\\epsilon_{t-1}\n",
    "    $$\n",
    "#### <font color=blue> Solution (b) </font>"
   ]
  },
  {
   "cell_type": "code",
   "execution_count": 3,
   "metadata": {},
   "outputs": [
    {
     "data": {
      "text/plain": [
       "$pred\n",
       "Time Series:\n",
       "Start = 16059 \n",
       "End = 16059 \n",
       "Frequency = 1 \n",
       "[1] -0.8057477\n",
       "\n",
       "$se\n",
       "Time Series:\n",
       "Start = 16059 \n",
       "End = 16059 \n",
       "Frequency = 1 \n",
       "[1] 0.5688566\n"
      ]
     },
     "metadata": {},
     "output_type": "display_data"
    }
   ],
   "source": [
    "ar1_model <- ar(tradeSign, order.max = 1)\n",
    "predict(ar1_model, n.head=1)"
   ]
  },
  {
   "cell_type": "markdown",
   "metadata": {},
   "source": [
    "(c) How does $\\phi_1$ relate to the autocorrelation coefficients of *tradeSign*?  What is the mean-squared error of this AR(1) forecast?\n",
    "#### <font color=blue> Solution (c) </font>"
   ]
  },
  {
   "cell_type": "code",
   "execution_count": 4,
   "metadata": {},
   "outputs": [
    {
     "data": {
      "text/plain": [
       "\n",
       "Autocorrelations of series ‘tradeSign’, by lag\n",
       "\n",
       "    1 \n",
       "0.821 "
      ]
     },
     "metadata": {},
     "output_type": "display_data"
    },
    {
     "name": "stdout",
     "output_type": "stream",
     "text": [
      "--------------------------------------------------------------------------\n",
      "phi_1 is 0.8210177\n",
      "autocorrelation coefficients of tradeSign (lag = 1) is the same with phi_1\n",
      "The mean-squared error of AR(1) is 0.3234549"
     ]
    }
   ],
   "source": [
    "# autocorrelation\n",
    "acf1 <- acf(tradeSign, plot=F)\n",
    "# mean squared error of AR(1)\n",
    "resids <- ar1_model$resid\n",
    "resids <- resids[!is.na(resids)]\n",
    "ar1_mse <- mean(resids^2)\n",
    "\n",
    "acf1[1]\n",
    "cat(\"--------------------------------------------------------------------------\\n\")\n",
    "cat(\"phi_1 is\", ar1_model$ar)\n",
    "cat(\"\\nautocorrelation coefficients of tradeSign (lag = 1) is the same with phi_1\")\n",
    "cat(\"\\nThe mean-squared error of AR(1) is\", ar1_mse)"
   ]
  },
  {
   "cell_type": "markdown",
   "metadata": {},
   "source": [
    "(d) Fit an $AR(p)$ model to the tradeSign data, allowing R to find the best value of $p$ using the default AIC criterion. This generates the forecast: $$\n",
    "    \\hat \\epsilon^{(2)}_t=\\sum_{k=1}^p\\,\\phi_k\\,\\epsilon_{t-k}.\n",
    "    $$\n",
    "#### <font color=blue> Solution (d) </font>"
   ]
  },
  {
   "cell_type": "code",
   "execution_count": 5,
   "metadata": {},
   "outputs": [
    {
     "data": {
      "text/plain": [
       "$pred\n",
       "Time Series:\n",
       "Start = 16059 \n",
       "End = 16059 \n",
       "Frequency = 1 \n",
       "[1] -0.6800992\n",
       "\n",
       "$se\n",
       "Time Series:\n",
       "Start = 16059 \n",
       "End = 16059 \n",
       "Frequency = 1 \n",
       "[1] 0.5582308\n"
      ]
     },
     "metadata": {},
     "output_type": "display_data"
    }
   ],
   "source": [
    "arp_model <- ar(tradeSign)\n",
    "predict(arp_model, n.head=1)"
   ]
  },
  {
   "cell_type": "markdown",
   "metadata": {},
   "source": [
    "(e) What value of $p$ is selected by R? What is the mean-squared error of this AR(p) forecast?\n",
    "#### <font color=blue> Solution (e) </font>"
   ]
  },
  {
   "cell_type": "code",
   "execution_count": 6,
   "metadata": {},
   "outputs": [
    {
     "name": "stdout",
     "output_type": "stream",
     "text": [
      "order selected 14\n",
      "The mean-squared error of AR(p) is 0.3105728"
     ]
    }
   ],
   "source": [
    "# mean squared error of AR(1)\n",
    "resids_new <- arp_model$resid\n",
    "resids_new <- resids_new[!is.na(resids_new)]\n",
    "arp_mse <- mean(resids_new^2)\n",
    "\n",
    "cat(\"order selected\", arp_model$order)\n",
    "cat(\"\\nThe mean-squared error of AR(p) is\", arp_mse)"
   ]
  },
  {
   "cell_type": "markdown",
   "metadata": {},
   "source": [
    "### 3. (8 points)\n",
    "\n",
    "(a) Bin the AR(p) forecast data from the previous problem by forecast sign with bin-breaks from -1.01 to 1.01 in steps of 0.02.\n",
    "#### <font color=blue> Solution (a) </font>"
   ]
  },
  {
   "cell_type": "code",
   "execution_count": 7,
   "metadata": {},
   "outputs": [
    {
     "data": {
      "image/png": "[encoded data removed]",
      "text/plain": [
       "Plot with title “Histogram of tradeSign_fitted”"
      ]
     },
     "metadata": {},
     "output_type": "display_data"
    }
   ],
   "source": [
    "tradeSign_fitted <- c()\n",
    "num_order <- arp_model$order\n",
    "# set initial value\n",
    "for (i in 1 : num_order){\n",
    "    tradeSign_fitted <- c(tradeSign_fitted,tradeSign[i])\n",
    "}\n",
    "\n",
    "# compute the fitted value from ar(p)\n",
    "for (i in (num_order+1) : length(tradeSign)){\n",
    "    tradeSign_fitted <- c(tradeSign_fitted, 0.)\n",
    "    for (j in 1 : num_order){\n",
    "        tradeSign_fitted[i] <-tradeSign_fitted[i] + tradeSign[i-j] * arp_model$ar[j]\n",
    "    }\n",
    "}\n",
    "\n",
    "# draw the histgram\n",
    "hist(tradeSign_fitted, breaks = seq(-1.01,1.01,by=0.02))"
   ]
  },
  {
   "cell_type": "markdown",
   "metadata": {},
   "source": [
    "(b) Plot the average actual order sign in each bin against the average forecast order sign.  What is the slope of the resulting graph? (Hint: use the R function *lm*).\n",
    "#### <font color=blue> Solution (b) </font>"
   ]
  },
  {
   "cell_type": "code",
   "execution_count": 8,
   "metadata": {},
   "outputs": [
    {
     "name": "stdout",
     "output_type": "stream",
     "text": [
      "The slope is as follows:"
     ]
    },
    {
     "data": {
      "text/html": [
       "<strong>a_f:</strong> 0.983831315315369"
      ],
      "text/latex": [
       "\\textbf{a\\textbackslash{}\\_f:} 0.983831315315369"
      ],
      "text/markdown": [
       "**a_f:** 0.983831315315369"
      ],
      "text/plain": [
       "      a_f \n",
       "0.9838313 "
      ]
     },
     "metadata": {},
     "output_type": "display_data"
    },
    {
     "data": {
      "image/png": "[encoded data removed]",
      "text/plain": [
       "plot without title"
      ]
     },
     "metadata": {},
     "output_type": "display_data"
    }
   ],
   "source": [
    "num_bin <- (1.01-(-1.01))/0.02\n",
    "avg_actual <- rep(0., num_bin)\n",
    "avg_forecast <- rep(0., num_bin)\n",
    "\n",
    "for (i in 1:num_bin){\n",
    "    count <- 0\n",
    "    for (j in 1 : length(tradeSign)){\n",
    "        if (((-1.01+0.02*(i-1) < tradeSign_fitted[j])) && (tradeSign_fitted[j] <= (-1.01+0.02*i))){\n",
    "            count <- count + 1\n",
    "            avg_actual[i] <- avg_actual[i] + tradeSign[j]\n",
    "            avg_forecast[i] <- avg_forecast[i] + tradeSign_fitted[j]\n",
    "        }\n",
    "    }\n",
    "    avg_actual[i] <- avg_actual[i] / count\n",
    "    avg_forecast[i] <- avg_forecast[i] / count\n",
    "}\n",
    "\n",
    "# draw the plot\n",
    "a_a <- avg_actual[!is.na(avg_actual)]\n",
    "a_f <- avg_forecast[!is.na(avg_forecast)]\n",
    "plot(a_a, a_f)\n",
    "\n",
    "# compute the slope\n",
    "fit_model <- lm(a_a ~ a_f)\n",
    "abline(fit_model)\n",
    "cat(\"The slope is as follows:\")\n",
    "fit_model$coef[2]"
   ]
  },
  {
   "cell_type": "markdown",
   "metadata": {},
   "source": [
    "(c) If the expected order sign is $\\hat \\epsilon$, what is the probability $p$ that the next trade will be a market buy?\n",
    "#### <font color=blue> Solution (c) </font>"
   ]
  },
  {
   "cell_type": "markdown",
   "metadata": {},
   "source": [
    "From definition we know\n",
    "\n",
    "$$\n",
    "\\hat \\epsilon = 1 \\times p + (-1) \\times (1-p) = 2p-1\n",
    "$$\n",
    "\n",
    "So the probability p that the next trade will be a market buy is\n",
    "$$\n",
    "p = \\frac{\\hat \\epsilon + 1}{2}\n",
    "$$"
   ]
  }
 ],
 "metadata": {
  "kernelspec": {
   "display_name": "R",
   "language": "R",
   "name": "ir"
  },
  "language_info": {
   "codemirror_mode": "r",
   "file_extension": ".r",
   "mimetype": "text/x-r-source",
   "name": "R",
   "pygments_lexer": "r",
   "version": "3.3.2"
  }
 },
 "nbformat": 4,
 "nbformat_minor": 1
}
