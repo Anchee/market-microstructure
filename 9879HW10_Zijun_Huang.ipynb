{
 "cells": [
  {
   "cell_type": "markdown",
   "metadata": {},
   "source": [
    "# MTH9879 Homework 10\n",
    "\n",
    "Assigned: May 2, 2017.\n",
    "Due: May 16, 2017 by 6pm. \n",
    "\n",
    "Late homework **will not be accepted**.\n",
    "\n",
    "$$\n",
    "\\newcommand{\\supp}{\\mathrm{supp}}\n",
    "\\newcommand{\\E}{\\mathbb{E}}\n",
    "\\newcommand{\\Eof}[1]{\\mathbb{E}\\left[ #1 \\right]}\n",
    "\\def\\Cov{{ \\mbox{Cov} }}\n",
    "\\def\\Var{{ \\mbox{Var} }}\n",
    "\\newcommand{\\1}{\\mathbf{1} }\n",
    "\\newcommand{\\PP}{\\mathbb{P} }\n",
    "%\\newcommand{\\Pr}{\\mathrm{Pr} }\n",
    "\\newcommand{\\QQ}{\\mathbb{Q} }\n",
    "\\newcommand{\\RR}{\\mathbb{R} }\n",
    "\\newcommand{\\DD}{\\mathbb{D} }\n",
    "\\newcommand{\\HH}{\\mathbb{H} }\n",
    "\\newcommand{\\spn}{\\mathrm{span} }\n",
    "\\newcommand{\\cov}{\\mathrm{cov} }\n",
    "\\newcommand{\\sgn}{\\mathrm{sgn} }\n",
    "\\newcommand{\\HS}{\\mathcal{L}_{\\mathrm{HS}} }\n",
    "%\\newcommand{\\HS}{\\mathrm{HS} }\n",
    "\\newcommand{\\trace}{\\mathrm{trace} }\n",
    "\\newcommand{\\LL}{\\mathcal{L} }\n",
    "%\\newcommand{\\LL}{\\mathrm{L} }\n",
    "\\newcommand{\\s}{\\mathcal{S} }\n",
    "\\newcommand{\\ee}{\\mathcal{E} }\n",
    "\\newcommand{\\ff}{\\mathcal{F} }\n",
    "\\newcommand{\\hh}{\\mathcal{H} }\n",
    "\\newcommand{\\bb}{\\mathcal{B} }\n",
    "\\newcommand{\\dd}{\\mathcal{D} }\n",
    "\\newcommand{\\g}{\\mathcal{G} }\n",
    "\\newcommand{\\p}{\\partial}\n",
    "\\newcommand{\\half}{\\frac{1}{2} }\n",
    "\\newcommand{\\T}{\\mathcal{T} }\n",
    "\\newcommand{\\bi}{\\begin{itemize}}\n",
    "\\newcommand{\\ei}{\\end{itemize}}\n",
    "\\newcommand{\\beq}{\\begin{equation}}\n",
    "\\newcommand{\\eeq}{\\end{equation}}\n",
    "\\newcommand{\\beas}{\\begin{eqnarray*}}\n",
    "\\newcommand{\\eeas}{\\end{eqnarray*}}\n",
    "\\newcommand{\\cO}{\\mathcal{O}}\n",
    "\\newcommand{\\cC}{\\mathcal{C}}\n",
    "\\newcommand{\\cF}{\\mathcal{F}}\n",
    "\\newcommand{\\cL}{\\mathcal{L}}\n",
    "\\newcommand{\\BS}{\\text{BS}}\n",
    "$$"
   ]
  },
  {
   "cell_type": "markdown",
   "metadata": {},
   "source": [
    "<font color = \"red\">Homework is to be done by each student individually.  To receive full credit, you must email a completed copy of this iPython notebook to Victor Istratov (stavka@gmail.com), Yassine Ghalem (yassine.ghalem@gmail.com) and Jim Gatheral (jim.gatheral@gmail.com) by the due date and time.  All R-code must run correctly and solutions must be written up neatly in Markdown/LaTeX format."
   ]
  },
  {
   "cell_type": "markdown",
   "metadata": {},
   "source": [
    "### R version 3.3.2 (2016-10-31) (ubuntu)"
   ]
  },
  {
   "cell_type": "markdown",
   "metadata": {},
   "source": [
    "## Numerical solution of Fredholm equation"
   ]
  },
  {
   "cell_type": "markdown",
   "metadata": {},
   "source": [
    "### 1. (12 points)\n",
    "Consider the Fredholm equation (7) in Lecture 10:\n",
    "\n",
    "$$\n",
    "\\int_0^T{G}(|t-s|)\\,dx_s =\\text{const.}\\qquad\\text{for all $t\\in [0,T]$.}\n",
    "$$\n",
    "\n",
    "Define $t_i:={i}\\frac T{N}$. One way to discretize this integral equation is as follows:\n",
    "\n",
    "$$\n",
    "\\sum_{j=1}^N G_{ij}\\,v_j=\\text{const.}\n",
    "$$\n",
    "\n",
    "where $v_j=x_{t_{j}}-x_{t_{j-1}}$ and\n",
    "\n",
    "<a name=\"eq:1\"></a>(1)\n",
    "$$\n",
    "G_{ij}=\n",
    "\\int_{t_{i-1}}^{t_i}\\,\\int_{t_{j-1}}^{t_j}\\,G(|t-s|)\\,ds\\,dt.\n",
    "$$\n",
    "\n",
    "(a) Derive an explicit expression for the $G_{ij}$ in the case\n",
    "$$\n",
    "G(\\tau)=\\frac {1}{(1+\\tau)^2}.\n",
    "$$\n",
    "You will need to compute separate expressions for the cases $i \\neq j$ and $i=j$."
   ]
  },
  {
   "cell_type": "markdown",
   "metadata": {},
   "source": [
    "#### <font color=blue> Solution (a)</font>\n",
    "\n",
    "**CASE 1**:   $i = j$ \n",
    "\n",
    "We know \n",
    "\n",
    "$$\n",
    "\\int_{t_{i-1}}^{t_i}\\,G(|t-s|)\\,ds  = 2 - \\frac{1}{1+t-t_{i-1}} - \\frac{1}{1+t_i-t}\n",
    "$$\n",
    "\n",
    "Thus\n",
    "\n",
    "$$\n",
    "\\begin{align}\n",
    "G_{ii} &= \\int_{t_{i-1}}^{t_i}\\, \\left\\{2-\\frac{1}{1+t-t_{i-1}}-\\frac{1}{1+t_i-t}\\right\\}\\,dt \\\\ \\\\\n",
    "&= 2\\,(t_i-t_{i-1}) - 2\\,\\mbox{log}(1+t_i-t_{i-1})\n",
    "\\end{align}\n",
    "$$\n",
    "\n",
    "**CASE 2**:   $i<j$\n",
    "\n",
    "$$\n",
    "\\begin{align}\n",
    "G_{ij} &= \\int_{t_{i-1}}^{t_i}\\,\\int_{t_{j-1}}^{t_j}\\,G(s-t)\\,ds\\,dt \\\\ \\\\\n",
    "&= \\mbox{log}\\left(\\frac{1+t_j-t_i}{1+t_j-t_{i-1}}\\cdot\\frac{1+t_{j-1}-t_{i-1}}{1+t_{j-1}-t_i}\\right)\n",
    "\\end{align}\n",
    "$$\n",
    "\n",
    "**CASE 3**:   $i>j$\n",
    "\n",
    "$$\n",
    "\\begin{align}\n",
    "G_{ij} &= \\int_{t_{i-1}}^{t_i}\\,\\int_{t_{j-1}}^{t_j}\\,G(t-s)\\,ds\\,dt \\\\\\\\\n",
    "&= \\mbox{log}\\left(\\frac{1+t_i-t_j}{1+t_{i-1}-t_j}\\cdot\\frac{1+t_{i-1}-t_{j-1}}{1+t_i-t_{j-1}}\\right)\n",
    "\\end{align}\n",
    "$$\n",
    "\n",
    "Note that case 2 and case 3 should be the same answers."
   ]
  },
  {
   "cell_type": "markdown",
   "metadata": {},
   "source": [
    "(b) With $N=512$, use matrix algebra to solve equation [(1)](#eq:1) numerically with this decay kernel.\n",
    "#### <font color=blue> Solution (b)</font>"
   ]
  },
  {
   "cell_type": "code",
   "execution_count": 1,
   "metadata": {
    "collapsed": true
   },
   "outputs": [],
   "source": [
    "# according to problem (1)\n",
    "G_ij <- function(i,j,dt){\n",
    "    if (i == j) {\n",
    "        return(2*dt - 2*log(1 + dt))\n",
    "    } \n",
    "    else if (i > j) {\n",
    "        return(log((1+(i-j)*dt)*(1+(i-j)*dt) / ((1+(i-j-1)*dt)*(1+(i-j+1)*dt))))\n",
    "    }\n",
    "    else {\n",
    "        return(log((1+(j-i)*dt)*(1+(j-i)*dt) / ((1+(j-i-1)*dt)*(1+(j-i+1)*dt))))\n",
    "    }\n",
    "}\n",
    "\n",
    "T <- 1\n",
    "N <- 512\n",
    "interval <- T/N\n",
    "G <- matrix(nrow=N, ncol=N)\n",
    "\n",
    "# get the specific value for G\n",
    "for (i in 1:N) {\n",
    "    for (j in 1:N) {\n",
    "        G[i,j] = G_ij(i,j,1/N)    \n",
    "    }\n",
    "}"
   ]
  },
  {
   "cell_type": "markdown",
   "metadata": {},
   "source": [
    "(c) Plot your results - you should end up with something like Figure 2 of Lecture 10.\n",
    "#### <font color=blue> Solution (c)</font>"
   ]
  },
  {
   "cell_type": "code",
   "execution_count": 2,
   "metadata": {
    "collapsed": false
   },
   "outputs": [
    {
     "data": {
      "image/png": "[encoded data removed]",
      "text/plain": [
       "plot without title"
      ]
     },
     "metadata": {},
     "output_type": "display_data"
    }
   ],
   "source": [
    "v <- rep(1/10000, N)\n",
    "v <- solve(G) %*% v\n",
    "plot(seq(1/N, 1, 1/N), v, type = \"l\", col = \"red\",xlab = \"Time \", ylab = \"Trade\")"
   ]
  },
  {
   "cell_type": "markdown",
   "metadata": {},
   "source": [
    "## Optimal interval VWAP strategy in the square-root model"
   ]
  },
  {
   "cell_type": "markdown",
   "metadata": {},
   "source": [
    "### 2. (12 points)\n",
    "\n",
    "Consider equation (11) of Lecture 10 for the cost of liquidation using interval VWAPs:\n",
    "\n",
    "$$\n",
    "\\cC=\\sum_{j=1}^m\\,C_{jj}+\\sum_{i< j}^m\\,C_{ji}.\n",
    "$$\n",
    "\n",
    "(a) With $m=3$ (that is 3 interval VWAP slices), and assuming the square-root process where\n",
    "\n",
    "$$\n",
    "h(v)=\\frac  3 4 \\sigma\\,\\sqrt{\\frac{v}{V}} =\\frac  3 4 \\sigma\\,\\sqrt{\\frac{\\dot x}{V}}, \n",
    "\\quad \\mbox{ and } \\quad\n",
    "G(\\tau)=1/\\sqrt{\\tau},\n",
    "$$\n",
    "\n",
    "compute explicit expressions for the matrix elements $C_{ji}$ in terms of $x_1$, $x_2$, $t_1$, and $t_2$ (noting that $t_0=0$ and $t_3=T$).\n",
    "#### <font color=blue> Solution (a)</font>"
   ]
  },
  {
   "cell_type": "markdown",
   "metadata": {},
   "source": [
    "Substitute $h(v)$ and $G(\\tau)$, we know\n",
    "\n",
    "$$\n",
    "\\begin{align}\n",
    "C_{ii} &=\\frac{4}{3}\\,x_i\\,h(v_i)\\,\\sqrt{t_i-t_{i-1}} \\\\\n",
    "&=\\frac{\\sigma}{\\sqrt{V}}\\,x_i^{3/2}\n",
    "\\end{align}\n",
    "$$\n",
    "\n",
    "$$\n",
    "\\begin{align}\n",
    "C_{ji}=\\frac{\\sigma\\,x_j\\sqrt{x_i}}{\\sqrt{V}}\\,\\frac{\\left(t_{j}-t_{i-1}\\right)^{3/2}\n",
    "-\\left(t_{j}-t_{i}\\right)^{3/2}-\\left(t_{j-1}-t_{i-1}\\right)^{3/2}+\\left(t_{j-1}-t_{i}\\right)^{3/2}}{(t_{j}-t_{j-1})\\sqrt{t_i-t_{i-1}}}\n",
    "\\end{align}\n",
    "$$\n",
    "\n",
    "So that\n",
    "$$\n",
    "\\begin{align}\n",
    "C_{11} &= \\frac{\\sigma}{\\sqrt{V}} x_1^{3/2} \\\\\n",
    "C_{22} &= \\frac{\\sigma}{\\sqrt{V}} x_2^{3/2} \\\\\n",
    "C_{33} &= \\frac{\\sigma}{\\sqrt{V}} (X - x_1 - x_2)^{3/2} \\\\\n",
    "C_{21} &= \\sigma x_2 \\sqrt{\\frac{x_1}{V}} \\frac{t_2^{3/2}-(t_2 - t_1)^{3/2}-t_1^{3/2}}{(t_2 - t_1) t_1^{1/2}} \\\\\n",
    "C_{31} &= \\sigma (X-x_1-x_2)\\sqrt{\\frac{x_1}{V}} \\frac{T^{3/2}-(T - t_1)^{3/2}-t_2^{3/2}+(t_2-t_1)^{3/2}}{(t_3 - t_2) t_1^{1/2}} \\\\\n",
    "C_{32} &= \\sigma (X-x_1-x_2) \\sqrt{\\frac{x_2}{V}} \\frac{(T - t_1)^{3/2}-(T - t_2)^{3/2}-(t_2 - t_1)^{3/2}}{(t_3 - t_2) (t_2 - t_1)^{1/2}}\n",
    "\\end{align}\n",
    "$$"
   ]
  },
  {
   "cell_type": "markdown",
   "metadata": {},
   "source": [
    "(b) Minimize the resulting expression for the expected cost of liquidation numerically to find optimal choices of $x_1$ and $x_2$ when $t_1=T/3$, and $t_2=2 \\,T/3$.\n",
    "#### <font color=blue> Solution (b)</font>"
   ]
  },
  {
   "cell_type": "code",
   "execution_count": 3,
   "metadata": {
    "collapsed": false
   },
   "outputs": [
    {
     "data": {
      "text/plain": [
       "$par\n",
       "[1] 6.470861e-01 3.256799e-16\n",
       "\n",
       "$value\n",
       "[1] 0.8832821\n",
       "\n",
       "$counts\n",
       "function gradient \n",
       "     368       NA \n",
       "\n",
       "$convergence\n",
       "[1] 0\n",
       "\n",
       "$message\n",
       "NULL\n",
       "\n",
       "$outer.iterations\n",
       "[1] 3\n",
       "\n",
       "$barrier.value\n",
       "[1] 6.492318e-05\n"
      ]
     },
     "metadata": {},
     "output_type": "display_data"
    }
   ],
   "source": [
    "# substitute t1 and t2 into above formula\n",
    "cost <- function(c) {\n",
    "    c11 <- c[1]^(3/2)\n",
    "    c22 <- c[2]^(3/2)\n",
    "    c33 <- (1-c[1]-c[2])^(3/2)\n",
    "    c21 <- c[2] * sqrt(c[1]) * (2*sqrt(2)-2)\n",
    "    c31 <- (1-c[1]-c[2]) * sqrt(c[1]) * (3*sqrt(3)-4*sqrt(2) + 1)\n",
    "    c32 <- (1-c[1]-c[2]) * sqrt(c[2]) * (2*sqrt(2)-2) \n",
    "    return(c11 + c22 + c33 + c21 + c31 + c32)\n",
    "}\n",
    "ui <- matrix(c(1,0,0,1,-1,-1), nrow=3, byrow=TRUE)  # linear constrain\n",
    "optim <- constrOptim(c(0.3, 0.3), cost, NULL, ui=ui, ci=c(0, 0, -1))\n",
    "optim"
   ]
  },
  {
   "cell_type": "markdown",
   "metadata": {},
   "source": [
    "Thus the optimal choice of $x_1$ and $x_2$ is $0.647X$ and 0."
   ]
  },
  {
   "cell_type": "markdown",
   "metadata": {},
   "source": [
    "(c) What is the percentage saving from trading with the 3-slice strategy relative to a VWAP?\n",
    "#### <font color=blue> Solution (c)</font>"
   ]
  },
  {
   "cell_type": "code",
   "execution_count": 4,
   "metadata": {
    "collapsed": false
   },
   "outputs": [
    {
     "data": {
      "text/html": [
       "0.116717929730586"
      ],
      "text/latex": [
       "0.116717929730586"
      ],
      "text/markdown": [
       "0.116717929730586"
      ],
      "text/plain": [
       "[1] 0.1167179"
      ]
     },
     "metadata": {},
     "output_type": "display_data"
    }
   ],
   "source": [
    "saved = 1 - optim$value\n",
    "saved"
   ]
  },
  {
   "cell_type": "markdown",
   "metadata": {},
   "source": [
    "Thus we know it saved  11.67%"
   ]
  },
  {
   "cell_type": "markdown",
   "metadata": {},
   "source": [
    "(d) Explain to your non-mathematical manager why this strategy has lower expected cost. "
   ]
  },
  {
   "cell_type": "markdown",
   "metadata": {},
   "source": [
    "#### <font color=blue> Solution (d)</font>\n",
    "The reason is there is some time between trades when the market impact decay.\n"
   ]
  }
 ],
 "metadata": {
  "kernelspec": {
   "display_name": "R",
   "language": "R",
   "name": "ir"
  },
  "language_info": {
   "codemirror_mode": "r",
   "file_extension": ".r",
   "mimetype": "text/x-r-source",
   "name": "R",
   "pygments_lexer": "r",
   "version": "3.3.2"
  }
 },
 "nbformat": 4,
 "nbformat_minor": 0
}
